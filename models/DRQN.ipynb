{
 "cells": [
  {
   "cell_type": "code",
   "execution_count": 1,
   "metadata": {
    "collapsed": true
   },
   "outputs": [
    {
     "name": "stderr",
     "output_type": "stream",
     "text": [
      "\n"
     ]
    }
   ],
   "source": [
    "import random\n",
    "import math\n",
    "import gym\n",
    "import numpy as np\n",
    "import PIL\n",
    "from PIL import Image\n",
    "import matplotlib\n",
    "import matplotlib.cm as cm\n",
    "import torch\n",
    "import torch.nn as nn\n",
    "import torch.optim as optim\n",
    "import torch.nn.functional as F\n",
    "import torchvision.transforms as T"
   ]
  },
  {
   "cell_type": "code",
   "execution_count": 3,
   "outputs": [],
   "source": [
    "class model(nn.Module):\n",
    "    def __init__(self):\n",
    "        super(model,self).__init__()\n",
    "        self.hidden_size = 512\n",
    "        self.conv1=nn.Conv2d(4,32,kernel_size=8,stride=4)\n",
    "        self.bn1=nn.BatchNorm2d(32)\n",
    "        self.conv2=nn.Conv2d(32,64,kernel_size=4,stride =2)\n",
    "        self.bn2=nn.BatchNorm2d(64)\n",
    "        self.conv3 = nn.Conv2d(64, 64, kernel_size=3, stride=1)\n",
    "        self.bn3 = nn.BatchNorm2d(64)\n",
    "        self.rnn= nn.RNN(input_size=64*7*7, hidden_size=512,num_layers=2,batch_first=True)\n",
    "        self.fc = nn.Linear(512, 2)\n",
    "\n",
    "    def init_hidden(self,batch_size):\n",
    "        return (torch.zeros(2,batch_size, self.hidden_size))\n",
    "\n",
    "    def forward(self,x,hidden):\n",
    "        x = F.relu(self.bn1(self.conv1(x)))\n",
    "        x = F.relu(self.bn2(self.conv2(x)))\n",
    "        x = F.relu(self.bn3(self.conv3(x)))\n",
    "        x=x.reshape(x.shape[0],1,7*7*64)\n",
    "        x,h_0=self.rnn(x,hidden)\n",
    "        return self.fc(x.contiguous().view(x.size(0), -1))"
   ],
   "metadata": {
    "collapsed": false,
    "pycharm": {
     "name": "#%%\n"
    }
   }
  },
  {
   "cell_type": "code",
   "execution_count": 4,
   "outputs": [
    {
     "name": "stderr",
     "output_type": "stream",
     "text": [
      "/home/juanes/Documents/THESIS/OPPOSD_algorithm/venv/lib/python3.8/site-packages/gym/envs/registration.py:505: UserWarning: \u001B[33mWARN: The environment CartPole-v0 is out of date. You should consider upgrading to version `v1` with the environment ID `CartPole-v1`.\u001B[0m\n",
      "  logger.warn(\n"
     ]
    },
    {
     "data": {
      "text/plain": "array([ 0.04570696, -0.03577907,  0.01998001, -0.02078381], dtype=float32)"
     },
     "execution_count": 4,
     "metadata": {},
     "output_type": "execute_result"
    }
   ],
   "source": [
    "env = gym.make('CartPole-v0').unwrapped\n",
    "env.reset()"
   ],
   "metadata": {
    "collapsed": false,
    "pycharm": {
     "name": "#%%\n"
    }
   }
  },
  {
   "cell_type": "code",
   "execution_count": 5,
   "outputs": [
    {
     "data": {
      "text/plain": "model(\n  (conv1): Conv2d(4, 32, kernel_size=(8, 8), stride=(4, 4))\n  (bn1): BatchNorm2d(32, eps=1e-05, momentum=0.1, affine=True, track_running_stats=True)\n  (conv2): Conv2d(32, 64, kernel_size=(4, 4), stride=(2, 2))\n  (bn2): BatchNorm2d(64, eps=1e-05, momentum=0.1, affine=True, track_running_stats=True)\n  (conv3): Conv2d(64, 64, kernel_size=(3, 3), stride=(1, 1))\n  (bn3): BatchNorm2d(64, eps=1e-05, momentum=0.1, affine=True, track_running_stats=True)\n  (rnn): RNN(3136, 512, num_layers=2, batch_first=True)\n  (fc): Linear(in_features=512, out_features=2, bias=True)\n)"
     },
     "execution_count": 5,
     "metadata": {},
     "output_type": "execute_result"
    }
   ],
   "source": [
    "policy=model()\n",
    "target_net=model()\n",
    "target_net.load_state_dict(policy.state_dict())\n",
    "target_net.eval()"
   ],
   "metadata": {
    "collapsed": false,
    "pycharm": {
     "name": "#%%\n"
    }
   }
  },
  {
   "cell_type": "code",
   "execution_count": 6,
   "outputs": [],
   "source": [
    "optimizer = optim.RMSprop(policy.parameters())\n",
    "criterion = F.smooth_l1_loss"
   ],
   "metadata": {
    "collapsed": false,
    "pycharm": {
     "name": "#%%\n"
    }
   }
  },
  {
   "cell_type": "code",
   "execution_count": 7,
   "outputs": [],
   "source": [
    "memory=10000\n",
    "store=[[dict()] for i in range(memory)]\n",
    "gamma=0.99\n",
    "EPS_START = 0.9\n",
    "EPS_END = 0.05\n",
    "EPS_DECAY = 200"
   ],
   "metadata": {
    "collapsed": false,
    "pycharm": {
     "name": "#%%\n"
    }
   }
  },
  {
   "cell_type": "code",
   "execution_count": 8,
   "outputs": [],
   "source": [
    "def PIL2array(img):\n",
    "    return np.array(img.getdata(),np.uint8).reshape(img.size[1], img.size[0], 4)\n",
    "\n",
    "def array2PIL(arr, size):\n",
    "    mode = 'RGBA'\n",
    "    arr = arr.reshape(arr.shape[0]*arr.shape[1], arr.shape[2])\n",
    "    if len(arr[0]) == 3:\n",
    "        arr = np.c_[arr, 255*np.ones((len(arr),1), np.uint8)]\n",
    "    return Image.frombuffer(mode, size, arr.tostring(), 'raw', mode, 0, 1)"
   ],
   "metadata": {
    "collapsed": false,
    "pycharm": {
     "name": "#%%\n"
    }
   }
  },
  {
   "cell_type": "code",
   "execution_count": 9,
   "outputs": [],
   "source": [
    "def processScreen(screen):\n",
    "    s=[600,400]\n",
    "    image= array2PIL(screen,s)\n",
    "    newImage = image.resize((84, 84))\n",
    "    xtt=PIL2array(newImage)\n",
    "    xtt=xtt.reshape(xtt.shape[2],xtt.shape[0],xtt.shape[1])\n",
    "    img=torch.from_numpy(np.array(xtt))\n",
    "    img=img.type('torch.FloatTensor')\n",
    "    return img/255.0"
   ],
   "metadata": {
    "collapsed": false,
    "pycharm": {
     "name": "#%%\n"
    }
   }
  },
  {
   "cell_type": "code",
   "execution_count": 10,
   "outputs": [],
   "source": [
    "def addEpisode(ind,prev,curr,reward,act):\n",
    "    if len(store[ind]) ==0:\n",
    "        store[ind][0]={'prev':prev,'curr':curr,'reward':reward,'action':act}\n",
    "    else:\n",
    "        store[ind].append({'prev':prev,'curr':curr,'reward':reward,'action':act})"
   ],
   "metadata": {
    "collapsed": false,
    "pycharm": {
     "name": "#%%\n"
    }
   }
  },
  {
   "cell_type": "code",
   "execution_count": 11,
   "outputs": [],
   "source": [
    "def trainNet(total_episodes):\n",
    "    if total_episodes==0:\n",
    "        return\n",
    "    ep=random.randint(0,total_episodes-1)\n",
    "    if len(store[ep]) < 8:\n",
    "        return\n",
    "    else:\n",
    "        start=random.randint(1,len(store[ep])-1)\n",
    "        length=len(store[ep])\n",
    "        inp=[]\n",
    "        target=[]\n",
    "        rew=torch.Tensor(1,length-start)\n",
    "        actions=torch.Tensor(1,length-start)\n",
    "\n",
    "        for i in range(start,length,1):\n",
    "            inp.append((store[ep][i]).get('prev'))\n",
    "            target.append((store[ep][i]).get('curr'))\n",
    "            rew[0][i-start]=store[ep][i].get('reward')\n",
    "            actions[0][i-start]=store[ep][i].get('action')\n",
    "        targets = torch.Tensor(target[0].shape[0],target[0].shape[1],target[0].shape[2])\n",
    "        torch.cat(target, out=targets)\n",
    "        ccs=torch.Tensor(inp[0].shape[0],inp[0].shape[1],inp[0].shape[2])\n",
    "        torch.cat(inp, out=ccs)\n",
    "        hidden = policy.init_hidden(length-start)\n",
    "        qvals= target_net(targets,hidden)\n",
    "        actions=actions.type('torch.LongTensor')\n",
    "        actions=actions.reshape(length-start,1)\n",
    "        hidden = policy.init_hidden(length-start)\n",
    "        inps=policy(ccs,hidden).gather(1,actions)\n",
    "        p1,p2=qvals.detach().max(1)\n",
    "        targ = torch.Tensor(1,p1.shape[0])\n",
    "        for num in range(start,length,1):\n",
    "            if num==len(store[ep])-1:\n",
    "                targ[0][num-start]=rew[0][num-start]\n",
    "            else:\n",
    "                targ[0][num-start]=rew[0][num-start]+gamma*p1[num-start]\n",
    "        optimizer.zero_grad()\n",
    "        inps=inps.reshape(1,length-start)\n",
    "        loss = criterion(inps,targ)\n",
    "        loss.backward()\n",
    "        for param in policy.parameters():\n",
    "            param.grad.data.clamp(-1,1)\n",
    "        optimizer.step()"
   ],
   "metadata": {
    "collapsed": false,
    "pycharm": {
     "name": "#%%\n"
    }
   }
  },
  {
   "cell_type": "code",
   "execution_count": 12,
   "outputs": [],
   "source": [
    "def trainDRQN(episodes):\n",
    "    steps_done=0\n",
    "    for i in range(0,episodes,1):\n",
    "        print(\"Episode\",i)\n",
    "        env.reset()\n",
    "        prev=env.render(mode='rgb_array')\n",
    "        prev=processScreen(prev)\n",
    "        done=False\n",
    "        steps=0\n",
    "        rew=0\n",
    "        while done == False:\n",
    "            eps_threshold = EPS_END + (EPS_START - EPS_END) * \\\n",
    "            math.exp(-1. * steps_done / EPS_DECAY)\n",
    "            print(steps,end=\" \")\n",
    "            steps+=1\n",
    "            hidden = policy.init_hidden(1)\n",
    "            output=policy(prev.unsqueeze(0),hidden)\n",
    "            action=(output.argmax()).item()\n",
    "            rand= random.uniform(0,1)\n",
    "            if rand < 0.05:\n",
    "                action=random.randint(0,1)\n",
    "\n",
    "            _,reward,done,_=env.step(action)\n",
    "            rew=rew+reward\n",
    "            if steps>200:\n",
    "                terminal = torch.zeros(prev.shape[0],prev.shape[1],prev.shape[2])\n",
    "                addEpisode(i,prev.unsqueeze(0),terminal.unsqueeze(0),-10,action)\n",
    "                f=0\n",
    "                break\n",
    "            sc=env.render(mode='rgb_array')\n",
    "            sc=processScreen(sc)\n",
    "            addEpisode(i,prev.unsqueeze(0),sc.unsqueeze(0),reward,action)\n",
    "            trainNet(i)\n",
    "            prev=sc\n",
    "            steps_done+=1\n",
    "        terminal = torch.zeros(prev.shape[0],prev.shape[1],prev.shape[2])\n",
    "        print(rew)\n",
    "        addEpisode(i,prev.unsqueeze(0),terminal.unsqueeze(0),-10,action)\n",
    "        if i%10==0:\n",
    "            target_net.load_state_dict(policy.state_dict())"
   ],
   "metadata": {
    "collapsed": false,
    "pycharm": {
     "name": "#%%\n"
    }
   }
  },
  {
   "cell_type": "code",
   "execution_count": 13,
   "outputs": [
    {
     "name": "stdout",
     "output_type": "stream",
     "text": [
      "Episode 0\n",
      "0 1 2 3 4 5 "
     ]
    },
    {
     "name": "stderr",
     "output_type": "stream",
     "text": [
      "/tmp/ipykernel_165541/2677825517.py:9: DeprecationWarning: tostring() is deprecated. Use tobytes() instead.\n",
      "  return Image.frombuffer(mode, size, arr.tostring(), 'raw', mode, 0, 1)\n"
     ]
    },
    {
     "name": "stdout",
     "output_type": "stream",
     "text": [
      "6 7 8 9 10 11.0\n",
      "Episode 1\n",
      "0 1 2 3 4 5 6 7 8 9 10 11 12 13 14 15 16 17 18 19 20 21 22.0\n",
      "Episode 2\n",
      "0 1 2 3 4 5 6 7 8 9 10 11.0\n",
      "Episode 3\n",
      "0 1 2 3 4 5 6 7 8 9 10 11 12 13 14 15 16 17 18 19 20 21 22 23 24 25 26 27 28 29 30 31 32 33 34 35 36 37 38 39 40 41 42 43 44 45 46 47.0\n",
      "Episode 4\n",
      "0 1 2 3 4 5 6 7 8 9 10 11 12 13 14 15 16 17 18 19 20 21 22.0\n",
      "Episode 5\n",
      "0 1 2 3 4 5 6 7 8 9 10 11 12 13 14 15 16 17.0\n",
      "Episode 6\n",
      "0 1 2 3 4 5 6 7 8 9 10 11 12 13 14 15 16 17 18 19 20 21 22 23 24 25 26 27 28 29 30 31.0\n",
      "Episode 7\n",
      "0 1 2 3 4 5 6 7 8 9 10 11 12 13 14 15 16 17 18 19 20 21.0\n",
      "Episode 8\n",
      "0 1 2 3 4 5 6 7 8 9 10 11 12 13 14 15 16 17 18 19 20 21 22 23 24 25 26.0\n",
      "Episode 9\n",
      "0 1 2 3 4 5 6 7 8 9 10 11 12 13 14 15 16 17 18 19 20 21 22 23 24 25 26 27 28 29 30 31 32.0\n",
      "Episode 10\n",
      "0 1 2 3 4 5 6 7 8 9 10 11 12 13 14 15 16 17 18 19 20 21 22 23 24 25 26 27 28 29 30 31 32 33 34 35 36 37 38.0\n",
      "Episode 11\n",
      "0 1 2 3 4 5 6 7 8 9 10 11 12 13 14 15 16 17 18 19 20 21 22 23 24 25 26 27 28 29 30 31 32 33 34 35 36 37 38 39 40 41 42 43 44 45 46 47 48.0\n",
      "Episode 12\n",
      "0 1 2 3 4 5 6 7 8 9 10 11 12 13 14 15 16 17 18 19 20 21.0\n",
      "Episode 13\n",
      "0 1 2 3 4 5 6 7 8 9 10 11 12 13 14 15 16 17 18 19 20 21 22 23 24 25 26 27 28 29 30.0\n",
      "Episode 14\n",
      "0 1 2 3 4 5 6 7 8 9 10 11 12 13 14 15 16 17 18.0\n",
      "Episode 15\n",
      "0 1 2 3 4 5 6 7 8 9 10 11 12 13 14 15 16 17 18.0\n",
      "Episode 16\n",
      "0 1 2 3 4 5 6 7 8 9 10 11 12 13 14.0\n",
      "Episode 17\n",
      "0 1 2 3 4 5 6 7 8 9 10 11.0\n",
      "Episode 18\n",
      "0 1 2 3 4 5 6 7 8 9 10 11 12 13 14 15.0\n",
      "Episode 19\n",
      "0 1 2 3 4 5 6 7 8 9 10 11 12 13 14 15 16 17 18 19 20 21 22.0\n",
      "Episode 20\n",
      "0 1 2 3 4 5 6 7 8 9 10 11 12.0\n",
      "Episode 21\n",
      "0 1 2 3 4 5 6 7 8 9 10 11 12 13 14 15 16 17 18 19 20.0\n",
      "Episode 22\n",
      "0 1 2 3 4 5 6 7 8 9 10 11 12 13 14.0\n",
      "Episode 23\n",
      "0 1 2 3 4 5 6 7 8 9 10 11 12 13 14 15 16 17 18 19 20 21 22 23 24.0\n",
      "Episode 24\n",
      "0 1 2 3 4 5 6 7 8 9 10 11 12 13 14 15 16 17 18 19 20 21 22.0\n",
      "Episode 25\n",
      "0 1 2 3 4 5 6 7 8 9 10 11 12 13 14 15 16 17.0\n",
      "Episode 26\n",
      "0 1 2 3 4 5 6 7 8 9 10 11 12 13 14 15 16 17 18 19 20 21 22 23 24 25 26 27.0\n",
      "Episode 27\n",
      "0 1 2 3 4 5 6 7 8 9 10 11 12 13 14.0\n",
      "Episode 28\n",
      "0 1 2 3 4 5 6 7 8 9 10 11 12 13 14 15 16 17 18 19 20 21 22 23 24 25 26 27 28 29 30 31 32 33 34 35 36.0\n",
      "Episode 29\n",
      "0 1 2 3 4 5 6 7 8 9 10.0\n",
      "Episode 30\n",
      "0 1 2 3 4 5 6 7 8 9 10 11 12 13 14 15.0\n",
      "Episode 31\n",
      "0 1 2 3 4 5 6 7 8 9 10.0\n",
      "Episode 32\n",
      "0 1 2 3 4 5 6 7 8 9 10 11 12 13 14 15 16 17 18 19 20 21 22 23 24 25 26.0\n",
      "Episode 33\n",
      "0 1 2 3 4 5 6 7 8 9 10 11 12 13 14 15 16 17 18 19 20 21 22 23 24 25 26.0\n",
      "Episode 34\n",
      "0 1 2 3 4 5 6 7 8 9 10 11 12 13 14 15 16 17 18 19 20 21 22 23 24 25 26 27 28 29 30 31 32 33 34 35 36 37 38 39 40 41 42 43 44 45 46 47 48 49 50 51 52.0\n",
      "Episode 35\n",
      "0 1 2 3 4 5 6 7 8 9 10 11 12 13 14 15.0\n",
      "Episode 36\n",
      "0 1 2 3 4 5 6 7 8 9 10 11 12 13 14.0\n",
      "Episode 37\n",
      "0 1 2 3 4 5 6 7 8 9 10 11 12 13 14 15 16 17.0\n",
      "Episode 38\n",
      "0 1 2 3 4 5 6 7 8 9 10 11.0\n",
      "Episode 39\n",
      "0 1 2 3 4 5 6 7 8 9 10 11 12 13 14 15 16 17 18 19 20.0\n",
      "Episode 40\n",
      "0 1 2 3 4 "
     ]
    },
    {
     "ename": "KeyboardInterrupt",
     "evalue": "",
     "output_type": "error",
     "traceback": [
      "\u001B[0;31m---------------------------------------------------------------------------\u001B[0m",
      "\u001B[0;31mKeyboardInterrupt\u001B[0m                         Traceback (most recent call last)",
      "Input \u001B[0;32mIn [13]\u001B[0m, in \u001B[0;36m<cell line: 1>\u001B[0;34m()\u001B[0m\n\u001B[0;32m----> 1\u001B[0m \u001B[43mtrainDRQN\u001B[49m\u001B[43m(\u001B[49m\u001B[38;5;241;43m2000\u001B[39;49m\u001B[43m)\u001B[49m\n",
      "Input \u001B[0;32mIn [12]\u001B[0m, in \u001B[0;36mtrainDRQN\u001B[0;34m(episodes)\u001B[0m\n\u001B[1;32m     31\u001B[0m sc\u001B[38;5;241m=\u001B[39mprocessScreen(sc)\n\u001B[1;32m     32\u001B[0m addEpisode(i,prev\u001B[38;5;241m.\u001B[39munsqueeze(\u001B[38;5;241m0\u001B[39m),sc\u001B[38;5;241m.\u001B[39munsqueeze(\u001B[38;5;241m0\u001B[39m),reward,action)\n\u001B[0;32m---> 33\u001B[0m \u001B[43mtrainNet\u001B[49m\u001B[43m(\u001B[49m\u001B[43mi\u001B[49m\u001B[43m)\u001B[49m\n\u001B[1;32m     34\u001B[0m prev\u001B[38;5;241m=\u001B[39msc\n\u001B[1;32m     35\u001B[0m steps_done\u001B[38;5;241m+\u001B[39m\u001B[38;5;241m=\u001B[39m\u001B[38;5;241m1\u001B[39m\n",
      "Input \u001B[0;32mIn [11]\u001B[0m, in \u001B[0;36mtrainNet\u001B[0;34m(total_episodes)\u001B[0m\n\u001B[1;32m     38\u001B[0m inps\u001B[38;5;241m=\u001B[39minps\u001B[38;5;241m.\u001B[39mreshape(\u001B[38;5;241m1\u001B[39m,length\u001B[38;5;241m-\u001B[39mstart)\n\u001B[1;32m     39\u001B[0m loss \u001B[38;5;241m=\u001B[39m criterion(inps,targ)\n\u001B[0;32m---> 40\u001B[0m \u001B[43mloss\u001B[49m\u001B[38;5;241;43m.\u001B[39;49m\u001B[43mbackward\u001B[49m\u001B[43m(\u001B[49m\u001B[43m)\u001B[49m\n\u001B[1;32m     41\u001B[0m \u001B[38;5;28;01mfor\u001B[39;00m param \u001B[38;5;129;01min\u001B[39;00m policy\u001B[38;5;241m.\u001B[39mparameters():\n\u001B[1;32m     42\u001B[0m     param\u001B[38;5;241m.\u001B[39mgrad\u001B[38;5;241m.\u001B[39mdata\u001B[38;5;241m.\u001B[39mclamp(\u001B[38;5;241m-\u001B[39m\u001B[38;5;241m1\u001B[39m,\u001B[38;5;241m1\u001B[39m)\n",
      "File \u001B[0;32m~/Documents/THESIS/OPPOSD_algorithm/venv/lib/python3.8/site-packages/torch/_tensor.py:363\u001B[0m, in \u001B[0;36mTensor.backward\u001B[0;34m(self, gradient, retain_graph, create_graph, inputs)\u001B[0m\n\u001B[1;32m    354\u001B[0m \u001B[38;5;28;01mif\u001B[39;00m has_torch_function_unary(\u001B[38;5;28mself\u001B[39m):\n\u001B[1;32m    355\u001B[0m     \u001B[38;5;28;01mreturn\u001B[39;00m handle_torch_function(\n\u001B[1;32m    356\u001B[0m         Tensor\u001B[38;5;241m.\u001B[39mbackward,\n\u001B[1;32m    357\u001B[0m         (\u001B[38;5;28mself\u001B[39m,),\n\u001B[0;32m   (...)\u001B[0m\n\u001B[1;32m    361\u001B[0m         create_graph\u001B[38;5;241m=\u001B[39mcreate_graph,\n\u001B[1;32m    362\u001B[0m         inputs\u001B[38;5;241m=\u001B[39minputs)\n\u001B[0;32m--> 363\u001B[0m \u001B[43mtorch\u001B[49m\u001B[38;5;241;43m.\u001B[39;49m\u001B[43mautograd\u001B[49m\u001B[38;5;241;43m.\u001B[39;49m\u001B[43mbackward\u001B[49m\u001B[43m(\u001B[49m\u001B[38;5;28;43mself\u001B[39;49m\u001B[43m,\u001B[49m\u001B[43m \u001B[49m\u001B[43mgradient\u001B[49m\u001B[43m,\u001B[49m\u001B[43m \u001B[49m\u001B[43mretain_graph\u001B[49m\u001B[43m,\u001B[49m\u001B[43m \u001B[49m\u001B[43mcreate_graph\u001B[49m\u001B[43m,\u001B[49m\u001B[43m \u001B[49m\u001B[43minputs\u001B[49m\u001B[38;5;241;43m=\u001B[39;49m\u001B[43minputs\u001B[49m\u001B[43m)\u001B[49m\n",
      "File \u001B[0;32m~/Documents/THESIS/OPPOSD_algorithm/venv/lib/python3.8/site-packages/torch/autograd/__init__.py:173\u001B[0m, in \u001B[0;36mbackward\u001B[0;34m(tensors, grad_tensors, retain_graph, create_graph, grad_variables, inputs)\u001B[0m\n\u001B[1;32m    168\u001B[0m     retain_graph \u001B[38;5;241m=\u001B[39m create_graph\n\u001B[1;32m    170\u001B[0m \u001B[38;5;66;03m# The reason we repeat same the comment below is that\u001B[39;00m\n\u001B[1;32m    171\u001B[0m \u001B[38;5;66;03m# some Python versions print out the first line of a multi-line function\u001B[39;00m\n\u001B[1;32m    172\u001B[0m \u001B[38;5;66;03m# calls in the traceback and some print out the last line\u001B[39;00m\n\u001B[0;32m--> 173\u001B[0m \u001B[43mVariable\u001B[49m\u001B[38;5;241;43m.\u001B[39;49m\u001B[43m_execution_engine\u001B[49m\u001B[38;5;241;43m.\u001B[39;49m\u001B[43mrun_backward\u001B[49m\u001B[43m(\u001B[49m\u001B[43m  \u001B[49m\u001B[38;5;66;43;03m# Calls into the C++ engine to run the backward pass\u001B[39;49;00m\n\u001B[1;32m    174\u001B[0m \u001B[43m    \u001B[49m\u001B[43mtensors\u001B[49m\u001B[43m,\u001B[49m\u001B[43m \u001B[49m\u001B[43mgrad_tensors_\u001B[49m\u001B[43m,\u001B[49m\u001B[43m \u001B[49m\u001B[43mretain_graph\u001B[49m\u001B[43m,\u001B[49m\u001B[43m \u001B[49m\u001B[43mcreate_graph\u001B[49m\u001B[43m,\u001B[49m\u001B[43m \u001B[49m\u001B[43minputs\u001B[49m\u001B[43m,\u001B[49m\n\u001B[1;32m    175\u001B[0m \u001B[43m    \u001B[49m\u001B[43mallow_unreachable\u001B[49m\u001B[38;5;241;43m=\u001B[39;49m\u001B[38;5;28;43;01mTrue\u001B[39;49;00m\u001B[43m,\u001B[49m\u001B[43m \u001B[49m\u001B[43maccumulate_grad\u001B[49m\u001B[38;5;241;43m=\u001B[39;49m\u001B[38;5;28;43;01mTrue\u001B[39;49;00m\u001B[43m)\u001B[49m\n",
      "\u001B[0;31mKeyboardInterrupt\u001B[0m: "
     ]
    }
   ],
   "source": [
    "trainDRQN(2000)"
   ],
   "metadata": {
    "collapsed": false,
    "pycharm": {
     "name": "#%%\n"
    }
   }
  }
 ],
 "metadata": {
  "kernelspec": {
   "display_name": "Python 3",
   "language": "python",
   "name": "python3"
  },
  "language_info": {
   "codemirror_mode": {
    "name": "ipython",
    "version": 2
   },
   "file_extension": ".py",
   "mimetype": "text/x-python",
   "name": "python",
   "nbconvert_exporter": "python",
   "pygments_lexer": "ipython2",
   "version": "2.7.6"
  }
 },
 "nbformat": 4,
 "nbformat_minor": 0
}