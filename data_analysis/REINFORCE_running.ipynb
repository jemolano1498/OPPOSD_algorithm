{
 "cells": [
  {
   "cell_type": "code",
   "execution_count": 50,
   "metadata": {},
   "outputs": [],
   "source": [
    "import torch\n",
    "import torch.nn as nn\n",
    "import torch.nn.functional as F\n",
    "import torch.optim as optim\n",
    "from torch.distributions import Categorical\n",
    "from torch.autograd import Variable\n",
    "import numpy as np\n",
    "import random\n",
    "\n",
    "from RunningEnv import EnvWrapper\n",
    "from tqdm.notebook import tqdm\n",
    "\n",
    "import matplotlib.pyplot as plt\n",
    "from sklearn.linear_model import LinearRegression\n",
    "import seaborn as sns\n"
   ]
  },
  {
   "cell_type": "code",
   "execution_count": 51,
   "metadata": {},
   "outputs": [],
   "source": [
    "#discount factor for future utilities\n",
    "DISCOUNT_FACTOR = 0.99\n",
    "\n",
    "#number of episodes to run\n",
    "NUM_EPISODES = 1000\n",
    "\n",
    "#max steps per episode\n",
    "MAX_STEPS = 10000\n",
    "\n",
    "#device to run model on \n",
    "DEVICE = \"cuda\" if torch.cuda.is_available() else \"cpu\"\n",
    "\n",
    "FRAMES = 500\n",
    "pref_pace = 181\n",
    "target_pace = pref_pace*1.1"
   ]
  },
  {
   "cell_type": "code",
   "execution_count": 52,
   "metadata": {},
   "outputs": [],
   "source": [
    "#Using a neural network to learn our policy parameters\n",
    "class PolicyNetwork(nn.Module):\n",
    "    \n",
    "    #Takes in observations and outputs actions\n",
    "    def __init__(self, observation_space, action_space):\n",
    "        super(PolicyNetwork, self).__init__()\n",
    "        self.name = \"NN\"\n",
    "        self.input_layer = nn.Linear(observation_space, 128)\n",
    "        self.output_layer = nn.Linear(128, action_space)\n",
    "    \n",
    "    #forward pass\n",
    "    def forward(self, x):\n",
    "        #input states\n",
    "        x = self.input_layer(x)\n",
    "        \n",
    "        #relu activation\n",
    "        x = F.relu(x)\n",
    "        \n",
    "        #actions\n",
    "        actions = self.output_layer(x)\n",
    "        \n",
    "        #get softmax for a probability distribution\n",
    "        action_probs = F.softmax(actions, dim=1)\n",
    "        \n",
    "        return action_probs\n",
    "\n",
    "class LSTM1(nn.Module):\n",
    "    def __init__(self, num_classes, input_size, hidden_size, num_layers, seq_length):\n",
    "        super(LSTM1, self).__init__()\n",
    "        self.name = \"LSTM\"\n",
    "        self.num_classes = num_classes  # number of classes\n",
    "        self.num_layers = num_layers  # number of layers\n",
    "        self.input_size = input_size  # input size\n",
    "        self.hidden_size = hidden_size  # hidden state\n",
    "        self.seq_length = seq_length  # sequence length\n",
    "\n",
    "        self.lstm = nn.LSTM(input_size=input_size, hidden_size=hidden_size,\n",
    "                            num_layers=num_layers, batch_first=True)  # lstm\n",
    "        self.fc_1 = nn.Linear(hidden_size, 128)  # fully connected 1\n",
    "        self.fc = nn.Linear(128, num_classes)  # fully connected last layer\n",
    "\n",
    "        self.relu = nn.ReLU()\n",
    "\n",
    "    def forward(self, x):\n",
    "        h_0 = Variable(torch.zeros(self.num_layers, x.size(0), self.hidden_size))  # hidden state\n",
    "        c_0 = Variable(torch.zeros(self.num_layers, x.size(0), self.hidden_size))  # internal state\n",
    "        # Propagate input through LSTM\n",
    "        output, (hn, cn) = self.lstm(x, (h_0, c_0))  # lstm with input, hidden, and internal state\n",
    "        hn = hn.view(-1, self.hidden_size)  # reshaping the data for Dense layer next\n",
    "        out = self.relu(hn)\n",
    "        out = self.fc_1(out)  # first Dense\n",
    "        out = self.relu(out)  # relu\n",
    "        actions = self.fc(out)  # Final Output\n",
    "\n",
    "        # #get softmax for a probability distribution\n",
    "        action_probs = F.softmax(actions, dim=1)\n",
    "\n",
    "        return action_probs\n"
   ]
  },
  {
   "cell_type": "code",
   "execution_count": 53,
   "metadata": {},
   "outputs": [],
   "source": [
    "def select_action(network, state):\n",
    "    ''' Selects an action given current state\n",
    "    Args:\n",
    "    - network (Torch NN): network to process state\n",
    "    - state (Array): Array of action space in an environment\n",
    "\n",
    "    Return:\n",
    "    - (int): action that is selected\n",
    "    - (float): log probability of selecting that action given state and network\n",
    "    '''\n",
    "\n",
    "    # convert state to float tensor, add 1 dimension, allocate tensor on device\n",
    "    state = torch.from_numpy(state).float().unsqueeze(0).to(DEVICE)\n",
    "    if network.name == \"LSTM\":\n",
    "        state = torch.reshape(state, (state.shape[0], 1, state.shape[1]))\n",
    "\n",
    "    # use network to predict action probabilities\n",
    "    action_probs = network(state)\n",
    "\n",
    "    # sample an action using the probability distribution\n",
    "    m = Categorical(action_probs)\n",
    "    action = m.sample()\n",
    "\n",
    "    # return action\n",
    "    return action.item(), m.log_prob(action)"
   ]
  },
  {
   "cell_type": "code",
   "execution_count": 54,
   "metadata": {},
   "outputs": [],
   "source": [
    "#Make environment\n",
    "env = EnvWrapper(pref_pace, target_pace)\n",
    "\n",
    "# Network variables\n",
    "input_size = 1 #number of features\n",
    "hidden_size = 2 #number of features in hidden state\n",
    "num_layers = 1 #number of stacked lstm layers\n",
    "\n",
    "num_classes = 5 #number of output classes\n",
    "\n",
    "#Init network\n",
    "network_NN = PolicyNetwork(input_size, num_classes).to(DEVICE)\n",
    "network_LSTM = LSTM1(num_classes, input_size, hidden_size, num_layers, 1).to(DEVICE)\n",
    "\n",
    "#Init optimizer\n",
    "optimizer_NN = optim.Adam(network_NN.parameters(), lr=1e-2)\n",
    "optimizer_LSTM = optim.Adam(network_LSTM.parameters(), lr=0.001)"
   ]
  },
  {
   "cell_type": "code",
   "execution_count": 55,
   "outputs": [],
   "source": [
    "def get_agent_score(network):\n",
    "    env.reset()\n",
    "    env.step(0)\n",
    "    scores = []\n",
    "\n",
    "    for _ in range(50):\n",
    "        env.reset()\n",
    "        state = env.step(0)[0]\n",
    "        score = 0\n",
    "        time_step = 0\n",
    "        while env.steps < FRAMES:\n",
    "            if network.name == \"LSTM1\":\n",
    "                state = torch.from_numpy(state)\n",
    "                state = state.type('torch.FloatTensor')\n",
    "                hidden = network.init_hidden(1)\n",
    "                output=network(state.unsqueeze(0), hidden)\n",
    "                action=(output.argmax()).item()\n",
    "            else:\n",
    "                action, _ = select_action(network, state)\n",
    "            new_state, reward, done = env.step(action)\n",
    "            score += reward\n",
    "            state = new_state\n",
    "            if action > 0:\n",
    "                time_step = time_step + env.times[action]\n",
    "            else:\n",
    "                time_step = time_step + 1\n",
    "        scores.append(score)\n",
    "    return np.array(scores).mean()"
   ],
   "metadata": {
    "collapsed": false,
    "pycharm": {
     "name": "#%%\n"
    }
   }
  },
  {
   "cell_type": "code",
   "execution_count": 56,
   "metadata": {},
   "outputs": [],
   "source": [
    "# track scores\n",
    "scores_NN = []\n",
    "avg_scores_NN = []\n"
   ]
  },
  {
   "cell_type": "code",
   "execution_count": 57,
   "outputs": [
    {
     "data": {
      "text/plain": "  0%|          | 0/2000 [00:00<?, ?it/s]",
      "application/vnd.jupyter.widget-view+json": {
       "version_major": 2,
       "version_minor": 0,
       "model_id": "58361dc106bb427e8c740b8e5ebf2d31"
      }
     },
     "metadata": {},
     "output_type": "display_data"
    }
   ],
   "source": [
    "for network, optimizer, scores, avg_scores in zip([network_NN],[optimizer_NN],[scores_NN],[avg_scores_NN]):\n",
    "    # iterate through episodes\n",
    "    for episode in tqdm(range(2000)):\n",
    "\n",
    "        # reset environment, initiable variables\n",
    "        env.reset()\n",
    "        state = env.step(0)[0]\n",
    "        rewards = []\n",
    "        log_probs = []\n",
    "        score = 0\n",
    "\n",
    "        # generate episode\n",
    "        while env.steps < FRAMES:\n",
    "            # env.render()\n",
    "\n",
    "            # select action\n",
    "            action, lp = select_action(network, state)\n",
    "\n",
    "            # execute action\n",
    "            new_state, reward, done = env.step(action)\n",
    "\n",
    "            # track episode score\n",
    "            score += reward\n",
    "\n",
    "            # store reward and log probability\n",
    "            rewards.append(reward)\n",
    "            log_probs.append(lp)\n",
    "\n",
    "            # end episode\n",
    "            if done:\n",
    "                break\n",
    "\n",
    "            # move into new state\n",
    "            state = new_state\n",
    "\n",
    "        # append score\n",
    "        scores.append(score)\n",
    "\n",
    "        # Calculate Gt (cumulative discounted rewards)\n",
    "        discounted_rewards = []\n",
    "\n",
    "        # track cumulative reward\n",
    "        total_r = 0\n",
    "\n",
    "        # iterate rewards from Gt to G0\n",
    "        for r in reversed(rewards):\n",
    "            # Base case: G(T) = r(T)\n",
    "            # Recursive: G(t) = r(t) + G(t+1)^DISCOUNT\n",
    "            total_r = r + (np.sign(total_r) * (np.abs(total_r)) ** DISCOUNT_FACTOR)\n",
    "\n",
    "            # append to discounted rewards\n",
    "            discounted_rewards.append(total_r)\n",
    "\n",
    "        # reverse discounted rewards\n",
    "        rewards = torch.tensor(discounted_rewards).to(DEVICE)\n",
    "        rewards = torch.flip(rewards, [0])\n",
    "\n",
    "        # adjusting policy parameters with gradient ascent\n",
    "        loss = []\n",
    "        for r, lp in zip(rewards, log_probs):\n",
    "            # we add a negative sign since network will perform gradient descent and we are doing gradient ascent with REINFORCE\n",
    "            loss.append(-r * lp)\n",
    "\n",
    "        # Backpropagation\n",
    "        optimizer.zero_grad()\n",
    "        sum(loss).backward()\n",
    "        optimizer.step()\n",
    "\n",
    "        if (((episode+1)%150) == 0):\n",
    "            avg_scores = np.append(avg_scores, get_agent_score(network))"
   ],
   "metadata": {
    "collapsed": false,
    "pycharm": {
     "name": "#%%\n"
    }
   }
  },
  {
   "cell_type": "markdown",
   "metadata": {},
   "source": [
    "#### DQRN:"
   ]
  },
  {
   "cell_type": "code",
   "execution_count": 60,
   "outputs": [],
   "source": [
    "class model(nn.Module):\n",
    "    def __init__(self, num_classes, input_size, hidden_size, num_layers, seq_length):\n",
    "        super(model, self).__init__()\n",
    "        self.name = \"LSTM1\"\n",
    "        self.num_classes = num_classes  # number of classes\n",
    "        self.num_layers = num_layers  # number of layers\n",
    "        self.input_size = input_size  # input size\n",
    "        self.hidden_size = hidden_size  # hidden state\n",
    "        self.seq_length = seq_length  # sequence length\n",
    "\n",
    "        self.lstm = nn.LSTM(input_size=input_size, hidden_size=hidden_size,\n",
    "                            num_layers=num_layers, batch_first=True)  # lstm\n",
    "        self.fc_1 = nn.Linear(hidden_size, 128)  # fully connected 1\n",
    "        self.fc = nn.Linear(128, num_classes)  # fully connected last layer\n",
    "\n",
    "        self.relu = nn.ReLU()\n",
    "\n",
    "    def init_hidden(self, batch_size):\n",
    "        return [torch.zeros(self.num_layers, batch_size, self.hidden_size), Variable(torch.zeros(self.num_layers, batch_size, self.hidden_size))]\n",
    "\n",
    "    def forward(self, x, hidden):\n",
    "        x = torch.reshape(x, (x.shape[0], 1, x.shape[1]))\n",
    "        output, (hn, cn) = self.lstm(x, (hidden[0], hidden[1]))  # lstm with input, hidden, and internal state\n",
    "        hn = hn.view(-1, self.hidden_size)  # reshaping the data for Dense layer next\n",
    "        out = self.relu(hn)\n",
    "        out = self.fc_1(out)  # first Dense\n",
    "        out = self.relu(out)  # relu\n",
    "        actions = self.fc(out)  # Final Output\n",
    "\n",
    "        return actions\n",
    "\n",
    "\n",
    "env.reset()\n",
    "\n",
    "policy=model(num_classes, input_size, hidden_size, num_layers, 1)\n",
    "target_net=model(num_classes, input_size, hidden_size, num_layers, 1)\n",
    "target_net.load_state_dict(policy.state_dict())\n",
    "target_net.eval()\n",
    "\n",
    "optimizer = optim.RMSprop(policy.parameters())\n",
    "criterion = F.smooth_l1_loss\n",
    "\n",
    "memory=10000\n",
    "store=[[dict()] for i in range(memory)]\n",
    "gamma=0.99\n",
    "EPS_START = 0.9\n",
    "EPS_END = 0.05\n",
    "EPS_DECAY = 200\n",
    "\n",
    "\n",
    "def addEpisode(ind,prev,curr,reward,act):\n",
    "    if len(store[ind]) ==0:\n",
    "        store[ind][0]={'prev':prev,'curr':curr,'reward':reward,'action':act}\n",
    "    else:\n",
    "        store[ind].append({'prev':prev,'curr':curr,'reward':reward,'action':act})\n",
    "\n",
    "def trainNet(total_episodes):\n",
    "    if total_episodes==0:\n",
    "        return\n",
    "    ep=random.randint(0,total_episodes-1)\n",
    "    if len(store[ep]) < 8:\n",
    "        return\n",
    "    else:\n",
    "        start=random.randint(1,len(store[ep])-1)\n",
    "        length=len(store[ep])\n",
    "        inp=[]\n",
    "        target=[]\n",
    "        rew=torch.Tensor(1,length-start)\n",
    "        actions=torch.Tensor(1,length-start)\n",
    "\n",
    "        for i in range(start,length,1):\n",
    "            inp.append((store[ep][i]).get('prev'))\n",
    "            target.append((store[ep][i]).get('curr'))\n",
    "            rew[0][i-start]=store[ep][i].get('reward')\n",
    "            actions[0][i-start]=store[ep][i].get('action')\n",
    "        targets = torch.Tensor(target[0].shape[0],target[0].shape[1])\n",
    "        torch.cat(target, out=targets)\n",
    "        ccs=torch.Tensor(inp[0].shape[0],inp[0].shape[1])\n",
    "        torch.cat(inp, out=ccs)\n",
    "        hidden = policy.init_hidden(length-start)\n",
    "        qvals= target_net(targets,hidden)\n",
    "        actions=actions.type('torch.LongTensor')\n",
    "        actions=actions.reshape(length-start,1)\n",
    "        hidden = policy.init_hidden(length-start)\n",
    "        inps=policy(ccs,hidden).gather(1,actions)\n",
    "        p1,p2=qvals.detach().max(1)\n",
    "        targ = torch.Tensor(1,p1.shape[0])\n",
    "        for num in range(start,length,1):\n",
    "            if num==len(store[ep])-1:\n",
    "                targ[0][num-start]=rew[0][num-start]\n",
    "            else:\n",
    "                targ[0][num-start]=rew[0][num-start]+gamma*p1[num-start]\n",
    "        optimizer.zero_grad()\n",
    "        inps=inps.reshape(1,length-start)\n",
    "        loss = criterion(inps,targ)\n",
    "        loss.backward()\n",
    "        for param in policy.parameters():\n",
    "            param.grad.data.clamp(-1,1)\n",
    "        optimizer.step()\n",
    "\n",
    "def trainDRQN(episodes):\n",
    "    global scores_LSTM, avg_scores_LSTM\n",
    "    steps_done=0\n",
    "    for i in tqdm(range(0,episodes,1)):\n",
    "        # print(\"Episode\",i)\n",
    "        env.reset()\n",
    "        prev=env.step(0)[0]\n",
    "        prev = torch.from_numpy(prev)\n",
    "        prev = prev.type('torch.FloatTensor')\n",
    "        done=False\n",
    "        steps=0\n",
    "        rew=0\n",
    "        while env.steps < FRAMES:\n",
    "            steps+=1\n",
    "            hidden = policy.init_hidden(1)\n",
    "            output=policy(prev.unsqueeze(0), hidden)\n",
    "            action=(output.argmax()).item()\n",
    "            rand= random.uniform(0,1)\n",
    "            if rand < 0.05:\n",
    "                action=random.randint(0,4)\n",
    "            sc,reward,done = env.step(action)\n",
    "\n",
    "            sc = torch.from_numpy(sc)\n",
    "            sc = sc.type('torch.FloatTensor')\n",
    "            reward = torch.from_numpy(reward)\n",
    "            reward = reward.type('torch.FloatTensor')\n",
    "            done = torch.from_numpy(done)\n",
    "            done = done.type('torch.FloatTensor')\n",
    "\n",
    "            rew=rew+reward\n",
    "            addEpisode(i,prev.unsqueeze(0),sc.unsqueeze(0),reward,action)\n",
    "            trainNet(i)\n",
    "            prev=sc\n",
    "            steps_done+=1\n",
    "        scores_LSTM = np.append(scores_LSTM, rew)\n",
    "        if i%10==0:\n",
    "            target_net.load_state_dict(policy.state_dict())\n",
    "        if (((episode+1)%150) == 0):\n",
    "            avg_scores_LSTM = np.append(avg_scores_LSTM, get_agent_score(policy))\n"
   ],
   "metadata": {
    "collapsed": false,
    "pycharm": {
     "name": "#%%\n"
    }
   }
  },
  {
   "cell_type": "code",
   "execution_count": 61,
   "outputs": [],
   "source": [
    "scores_LSTM = []\n",
    "avg_scores_LSTM = []"
   ],
   "metadata": {
    "collapsed": false,
    "pycharm": {
     "name": "#%%\n"
    }
   }
  },
  {
   "cell_type": "code",
   "execution_count": 62,
   "outputs": [
    {
     "data": {
      "text/plain": "  0%|          | 0/2000 [00:00<?, ?it/s]",
      "application/vnd.jupyter.widget-view+json": {
       "version_major": 2,
       "version_minor": 0,
       "model_id": "72b6dcd5f4094b70ad729125e3aff366"
      }
     },
     "metadata": {},
     "output_type": "display_data"
    }
   ],
   "source": [
    "trainDRQN(2000)"
   ],
   "metadata": {
    "collapsed": false,
    "pycharm": {
     "name": "#%%\n"
    }
   }
  },
  {
   "cell_type": "code",
   "execution_count": 66,
   "outputs": [
    {
     "data": {
      "text/plain": "5067.445240619999"
     },
     "execution_count": 66,
     "metadata": {},
     "output_type": "execute_result"
    }
   ],
   "source": [
    "# get_agent_score(policy)\n",
    "get_agent_score(network_NN)"
   ],
   "metadata": {
    "collapsed": false,
    "pycharm": {
     "name": "#%%\n"
    }
   }
  },
  {
   "cell_type": "code",
   "execution_count": 64,
   "metadata": {
    "scrolled": true
   },
   "outputs": [
    {
     "data": {
      "text/plain": "<Figure size 432x288 with 1 Axes>",
      "image/png": "[encoded data removed]"
     },
     "metadata": {},
     "output_type": "display_data"
    }
   ],
   "source": [
    "sns.set()\n",
    "\n",
    "plt.plot(scores_NN, color='r')\n",
    "plt.plot(scores_LSTM, color='b')\n",
    "plt.ylabel('Score')\n",
    "plt.xlabel('Episodes')\n",
    "plt.title('Training score of RunningEnv with REINFORCE')\n",
    "\n",
    "# reg = LinearRegression().fit(np.arange(len(avg_scores_NN)).reshape(-1, 1), np.array(scores).reshape(-1, 1))\n",
    "# reg = LinearRegression().fit(np.arange(len(avg_scores_LSTM)).reshape(-1, 1), np.array(scores).reshape(-1, 1))\n",
    "# y_pred = reg.predict(np.arange(len(scores)).reshape(-1, 1))\n",
    "# plt.plot(y_pred)\n",
    "plt.show()"
   ]
  },
  {
   "cell_type": "markdown",
   "metadata": {},
   "source": [
    "#### Trying Agent:"
   ]
  },
  {
   "cell_type": "code",
   "execution_count": 19,
   "metadata": {},
   "outputs": [
    {
     "data": {
      "text/plain": "  0%|          | 0/50 [00:00<?, ?it/s]",
      "application/vnd.jupyter.widget-view+json": {
       "version_major": 2,
       "version_minor": 0,
       "model_id": "32ac69393b1f480d8060f57914246f7f"
      }
     },
     "metadata": {},
     "output_type": "display_data"
    }
   ],
   "source": [
    "done = False\n",
    "env.reset()\n",
    "state = env.step(0)[0]\n",
    "try_scores = []\n",
    "\n",
    "for _ in tqdm(range(50)):\n",
    "    env.reset()\n",
    "    state = env.step(0)[0]\n",
    "    done = False\n",
    "    score = 0\n",
    "    time_step = 0\n",
    "    while env.steps < FRAMES:\n",
    "        # env.render()\n",
    "        action, lp = select_action(network_LSTM, state)\n",
    "        new_state, reward, done = env.step(action)\n",
    "        score += reward\n",
    "        state = new_state\n",
    "        if action > 0:\n",
    "            time_step = time_step + env.times[action]\n",
    "        else:\n",
    "            time_step = time_step + 1\n",
    "    try_scores.append(score)"
   ]
  },
  {
   "cell_type": "code",
   "execution_count": 20,
   "metadata": {},
   "outputs": [
    {
     "data": {
      "text/plain": "1824.8522646302563"
     },
     "execution_count": 20,
     "metadata": {},
     "output_type": "execute_result"
    }
   ],
   "source": [
    "np.array(try_scores).mean()"
   ]
  },
  {
   "cell_type": "code",
   "execution_count": 70,
   "outputs": [
    {
     "data": {
      "text/plain": "<Figure size 432x288 with 1 Axes>",
      "image/png": "[encoded data removed]"
     },
     "metadata": {},
     "output_type": "display_data"
    },
    {
     "name": "stdout",
     "output_type": "stream",
     "text": [
      "-34359.42394401336\n"
     ]
    }
   ],
   "source": [
    "env.reset()\n",
    "state = env.step(0)[0]\n",
    "\n",
    "while env.steps < FRAMES:\n",
    "    # action, _ = select_action(network, state)\n",
    "\n",
    "    #\n",
    "    state = torch.from_numpy(state)\n",
    "    state = state.type('torch.FloatTensor')\n",
    "    hidden = policy.init_hidden(1)\n",
    "    output=policy(state.unsqueeze(0), hidden)\n",
    "    action=(output.argmax()).item()\n",
    "    #\n",
    "    new_state, reward, done = env.step(action)\n",
    "    # if reward < 0:\n",
    "    #     print(action, state, new_state, reward)\n",
    "    # if action == 0:\n",
    "    #     # print(action, (state+1)*pref_pace, (new_state+1)*pref_pace, reward)\n",
    "    #     print(action, state, new_state, reward)\n",
    "    state = new_state\n",
    "\n",
    "x = np.linspace(0, len(env.env_pacing), len(env.env_pacing))\n",
    "plt.scatter(x[np.array(env.env_pacing)==1], np.array(env.pace)[np.array(env.env_pacing)==1], marker=\"x\", label='Paced steps')\n",
    "plt.scatter(x[np.array(env.env_pacing)==0], np.array(env.pace)[np.array(env.env_pacing)==0], marker=\"x\", label='Not-paced steps')\n",
    "\n",
    "\n",
    "# plt.scatter(x[np.array(env_pacing)==1], np.array(pace)[np.array(env_pacing)==1], marker=\"x\", label='Paced steps')\n",
    "# plt.scatter(x[np.array(env_pacing)==0], np.array(pace)[np.array(env_pacing)==0], marker=\"x\", label='Not-paced steps')\n",
    "\n",
    "# plt.scatter(x[np.array(pacing)==1], np.array(pacing)[np.array(pacing)==1]*181, color='r', marker=\"x\")\n",
    "plt.axhline(y=target_pace, color='k', linestyle='--', label='Target Pace')\n",
    "\n",
    "plt.plot(x, env.state_traj, 'r-', linewidth=2)\n",
    "plt.legend()\n",
    "plt.show()\n",
    "\n",
    "print(np.sum(env.rewards))"
   ],
   "metadata": {
    "collapsed": false,
    "pycharm": {
     "name": "#%%\n"
    }
   }
  },
  {
   "cell_type": "markdown",
   "source": [
    "### Trying Heuristic agent"
   ],
   "metadata": {
    "collapsed": false
   }
  },
  {
   "cell_type": "code",
   "execution_count": 13,
   "outputs": [],
   "source": [
    "class HeuristicAgent:\n",
    "    def __init__(self):\n",
    "        self.initial_wait = 20\n",
    "        self.initial_completed = False\n",
    "\n",
    "    def select_action(self, state):\n",
    "        avg_pace = state[0]\n",
    "        action = 0\n",
    "\n",
    "        # Initial waiting time\n",
    "        if not(self.initial_completed):\n",
    "            self.initial_wait = self.initial_wait - 1\n",
    "            if self.initial_wait == 0:\n",
    "                self.initial_completed = True\n",
    "\n",
    "        if abs(avg_pace) > 27e-3:\n",
    "            action = 4\n",
    "\n",
    "        elif abs(avg_pace) > 22e-3:\n",
    "            action = 3\n",
    "\n",
    "        elif abs(avg_pace) > 15e-3:\n",
    "            action = 2\n",
    "\n",
    "        elif abs(avg_pace) > 11e-3:\n",
    "            action = 1\n",
    "\n",
    "        return action"
   ],
   "metadata": {
    "collapsed": false,
    "pycharm": {
     "name": "#%%\n"
    }
   }
  },
  {
   "cell_type": "code",
   "execution_count": 14,
   "outputs": [
    {
     "name": "stdout",
     "output_type": "stream",
     "text": [
      "1\n"
     ]
    }
   ],
   "source": [
    "heuristic_agent = HeuristicAgent()\n",
    "print(heuristic_agent.select_action([0.014]))"
   ],
   "metadata": {
    "collapsed": false,
    "pycharm": {
     "name": "#%%\n"
    }
   }
  },
  {
   "cell_type": "code",
   "execution_count": 15,
   "outputs": [
    {
     "data": {
      "text/plain": "<Figure size 432x288 with 1 Axes>",
      "image/png": "[encoded data removed]"
     },
     "metadata": {},
     "output_type": "display_data"
    },
    {
     "name": "stdout",
     "output_type": "stream",
     "text": [
      "4831.2600423597405\n"
     ]
    }
   ],
   "source": [
    "heuristic_agent = HeuristicAgent()\n",
    "env.reset()\n",
    "state = env.step(0)[0]\n",
    "\n",
    "while env.steps < FRAMES:\n",
    "    action = heuristic_agent.select_action(state)\n",
    "    new_state, reward, _ = env.step(action)\n",
    "    # if action != 0:\n",
    "    #     print(action, state, new_state, reward)\n",
    "    state = new_state\n",
    "\n",
    "x = np.linspace(0, len(env.env_pacing), len(env.env_pacing))\n",
    "plt.scatter(x[np.array(env.env_pacing)==1], np.array(env.pace)[np.array(env.env_pacing)==1], marker=\"x\", label='Paced steps')\n",
    "plt.scatter(x[np.array(env.env_pacing)==0], np.array(env.pace)[np.array(env.env_pacing)==0], marker=\"x\", label='Not-paced steps')\n",
    "\n",
    "\n",
    "# plt.scatter(x[np.array(env_pacing)==1], np.array(pace)[np.array(env_pacing)==1], marker=\"x\", label='Paced steps')\n",
    "# plt.scatter(x[np.array(env_pacing)==0], np.array(pace)[np.array(env_pacing)==0], marker=\"x\", label='Not-paced steps')\n",
    "\n",
    "# plt.scatter(x[np.array(pacing)==1], np.array(pacing)[np.array(pacing)==1]*181, color='r', marker=\"x\")\n",
    "plt.axhline(y=target_pace, color='k', linestyle='--', label='Target Pace')\n",
    "\n",
    "plt.plot(x, env.state_traj, 'r-', linewidth=2)\n",
    "plt.legend()\n",
    "plt.show()\n",
    "\n",
    "print(np.sum(env.rewards))"
   ],
   "metadata": {
    "collapsed": false,
    "pycharm": {
     "name": "#%%\n"
    }
   }
  },
  {
   "cell_type": "code",
   "execution_count": 16,
   "outputs": [
    {
     "data": {
      "text/plain": "  0%|          | 0/50 [00:00<?, ?it/s]",
      "application/vnd.jupyter.widget-view+json": {
       "version_major": 2,
       "version_minor": 0,
       "model_id": "71984cd4bdcb4a43b85524bb1ddde206"
      }
     },
     "metadata": {},
     "output_type": "display_data"
    }
   ],
   "source": [
    "done = False\n",
    "env.reset()\n",
    "state = env.step(0)[0]\n",
    "heuristic_agent = HeuristicAgent()\n",
    "scores_heuristic = []\n",
    "\n",
    "for _ in tqdm(range(50)):\n",
    "    env.reset()\n",
    "    state = env.step(0)[0]\n",
    "    done = False\n",
    "    score = 0\n",
    "\n",
    "    while env.steps < FRAMES:\n",
    "        # env.render()\n",
    "        action = heuristic_agent.select_action(state)\n",
    "        new_state, _, _ = env.step(action)\n",
    "        state = new_state\n",
    "        score += reward\n",
    "    scores_heuristic.append(score)"
   ],
   "metadata": {
    "collapsed": false,
    "pycharm": {
     "name": "#%%\n"
    }
   }
  },
  {
   "cell_type": "code",
   "execution_count": 17,
   "outputs": [
    {
     "name": "stdout",
     "output_type": "stream",
     "text": [
      "4312.6\n"
     ]
    }
   ],
   "source": [
    "print(np.mean(scores_heuristic))"
   ],
   "metadata": {
    "collapsed": false,
    "pycharm": {
     "name": "#%%\n"
    }
   }
  },
  {
   "cell_type": "markdown",
   "source": [
    "### Play manually"
   ],
   "metadata": {
    "collapsed": false
   }
  },
  {
   "cell_type": "code",
   "execution_count": 18,
   "outputs": [
    {
     "name": "stdout",
     "output_type": "stream",
     "text": [
      "[-0.02894362] [175.76120518] [-7.62674301]\n"
     ]
    }
   ],
   "source": [
    "env.reset()\n",
    "state, reward, _ = env.step(0)\n",
    "print(state, (state+1)*pref_pace, reward)\n"
   ],
   "metadata": {
    "collapsed": false,
    "pycharm": {
     "name": "#%%\n"
    }
   }
  },
  {
   "cell_type": "code",
   "execution_count": 19,
   "outputs": [
    {
     "name": "stdout",
     "output_type": "stream",
     "text": [
      "0 [-0.02894362] [-0.04045412] [-30.54415578]\n"
     ]
    }
   ],
   "source": [
    "action= 0\n",
    "new_state, reward, done = env.step(action)\n",
    "print(action, state, new_state, reward)\n",
    "state = new_state"
   ],
   "metadata": {
    "collapsed": false,
    "pycharm": {
     "name": "#%%\n"
    }
   }
  },
  {
   "cell_type": "code",
   "execution_count": 20,
   "outputs": [
    {
     "data": {
      "text/plain": "<Figure size 432x288 with 1 Axes>",
      "image/png": "[encoded data removed]"
     },
     "metadata": {},
     "output_type": "display_data"
    },
    {
     "name": "stdout",
     "output_type": "stream",
     "text": [
      "-38.17089878692485\n"
     ]
    }
   ],
   "source": [
    "x = np.linspace(0, len(env.env_pacing), len(env.env_pacing))\n",
    "plt.scatter(x[np.array(env.env_pacing)==1], np.array(env.pace)[np.array(env.env_pacing)==1], marker=\"x\", label='Paced steps')\n",
    "plt.scatter(x[np.array(env.env_pacing)==0], np.array(env.pace)[np.array(env.env_pacing)==0], marker=\"x\", label='Not-paced steps')\n",
    "\n",
    "\n",
    "# plt.scatter(x[np.array(env_pacing)==1], np.array(pace)[np.array(env_pacing)==1], marker=\"x\", label='Paced steps')\n",
    "# plt.scatter(x[np.array(env_pacing)==0], np.array(pace)[np.array(env_pacing)==0], marker=\"x\", label='Not-paced steps')\n",
    "\n",
    "# plt.scatter(x[np.array(pacing)==1], np.array(pacing)[np.array(pacing)==1]*181, color='r', marker=\"x\")\n",
    "plt.axhline(y=181, color='k', linestyle='--', label='Target Pace')\n",
    "\n",
    "plt.plot(x, env.state_traj, 'r-', linewidth=2)\n",
    "plt.show()\n",
    "\n",
    "print(np.sum(env.rewards))"
   ],
   "metadata": {
    "collapsed": false,
    "pycharm": {
     "name": "#%%\n"
    }
   }
  }
 ],
 "metadata": {
  "kernelspec": {
   "display_name": "Python 3",
   "language": "python",
   "name": "python3"
  },
  "language_info": {
   "codemirror_mode": {
    "name": "ipython",
    "version": 3
   },
   "file_extension": ".py",
   "mimetype": "text/x-python",
   "name": "python",
   "nbconvert_exporter": "python",
   "pygments_lexer": "ipython3",
   "version": "3.7.4"
  }
 },
 "nbformat": 4,
 "nbformat_minor": 2
}