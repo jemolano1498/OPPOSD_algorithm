{
 "cells": [
  {
   "cell_type": "code",
   "execution_count": 1,
   "metadata": {
    "collapsed": true
   },
   "outputs": [],
   "source": [
    "import pandas as pd\n",
    "import matplotlib.pyplot as plt\n",
    "import numpy as np"
   ]
  },
  {
   "cell_type": "code",
   "execution_count": 2,
   "outputs": [],
   "source": [
    "data_folder_path = 'C:/Users/TAAESJU2/thesis_documents/Project_Juan/'"
   ],
   "metadata": {
    "collapsed": false,
    "pycharm": {
     "name": "#%%\n"
    }
   }
  },
  {
   "cell_type": "code",
   "execution_count": 3,
   "outputs": [
    {
     "data": {
      "text/plain": "    PPnr  Age Gender  km_per_week  comf_speed\n0      1   21      m           25        10.5\n1      2   24      f           16         9.0\n2      3   24      f           30         9.5\n3      4   33      f            8        10.5\n4      5   21      m           21        11.0\n5      6   26      m           40        11.5\n6      7   34      f           35        10.0\n7      8   26      f           23         9.0\n8      9   39      f           50        11.0\n9     10   25      f           30        10.5\n10    11   38      f           30        12.0\n11    12   36      f           25        10.0\n12    13   33      m           20        10.5\n13    14   28      m           50        11.0\n14    15   29      f           18         9.5\n15    16   27      m           50        12.0",
      "text/html": "<div>\n<style scoped>\n    .dataframe tbody tr th:only-of-type {\n        vertical-align: middle;\n    }\n\n    .dataframe tbody tr th {\n        vertical-align: top;\n    }\n\n    .dataframe thead th {\n        text-align: right;\n    }\n</style>\n<table border=\"1\" class=\"dataframe\">\n  <thead>\n    <tr style=\"text-align: right;\">\n      <th></th>\n      <th>PPnr</th>\n      <th>Age</th>\n      <th>Gender</th>\n      <th>km_per_week</th>\n      <th>comf_speed</th>\n    </tr>\n  </thead>\n  <tbody>\n    <tr>\n      <th>0</th>\n      <td>1</td>\n      <td>21</td>\n      <td>m</td>\n      <td>25</td>\n      <td>10.5</td>\n    </tr>\n    <tr>\n      <th>1</th>\n      <td>2</td>\n      <td>24</td>\n      <td>f</td>\n      <td>16</td>\n      <td>9.0</td>\n    </tr>\n    <tr>\n      <th>2</th>\n      <td>3</td>\n      <td>24</td>\n      <td>f</td>\n      <td>30</td>\n      <td>9.5</td>\n    </tr>\n    <tr>\n      <th>3</th>\n      <td>4</td>\n      <td>33</td>\n      <td>f</td>\n      <td>8</td>\n      <td>10.5</td>\n    </tr>\n    <tr>\n      <th>4</th>\n      <td>5</td>\n      <td>21</td>\n      <td>m</td>\n      <td>21</td>\n      <td>11.0</td>\n    </tr>\n    <tr>\n      <th>5</th>\n      <td>6</td>\n      <td>26</td>\n      <td>m</td>\n      <td>40</td>\n      <td>11.5</td>\n    </tr>\n    <tr>\n      <th>6</th>\n      <td>7</td>\n      <td>34</td>\n      <td>f</td>\n      <td>35</td>\n      <td>10.0</td>\n    </tr>\n    <tr>\n      <th>7</th>\n      <td>8</td>\n      <td>26</td>\n      <td>f</td>\n      <td>23</td>\n      <td>9.0</td>\n    </tr>\n    <tr>\n      <th>8</th>\n      <td>9</td>\n      <td>39</td>\n      <td>f</td>\n      <td>50</td>\n      <td>11.0</td>\n    </tr>\n    <tr>\n      <th>9</th>\n      <td>10</td>\n      <td>25</td>\n      <td>f</td>\n      <td>30</td>\n      <td>10.5</td>\n    </tr>\n    <tr>\n      <th>10</th>\n      <td>11</td>\n      <td>38</td>\n      <td>f</td>\n      <td>30</td>\n      <td>12.0</td>\n    </tr>\n    <tr>\n      <th>11</th>\n      <td>12</td>\n      <td>36</td>\n      <td>f</td>\n      <td>25</td>\n      <td>10.0</td>\n    </tr>\n    <tr>\n      <th>12</th>\n      <td>13</td>\n      <td>33</td>\n      <td>m</td>\n      <td>20</td>\n      <td>10.5</td>\n    </tr>\n    <tr>\n      <th>13</th>\n      <td>14</td>\n      <td>28</td>\n      <td>m</td>\n      <td>50</td>\n      <td>11.0</td>\n    </tr>\n    <tr>\n      <th>14</th>\n      <td>15</td>\n      <td>29</td>\n      <td>f</td>\n      <td>18</td>\n      <td>9.5</td>\n    </tr>\n    <tr>\n      <th>15</th>\n      <td>16</td>\n      <td>27</td>\n      <td>m</td>\n      <td>50</td>\n      <td>12.0</td>\n    </tr>\n  </tbody>\n</table>\n</div>"
     },
     "execution_count": 3,
     "metadata": {},
     "output_type": "execute_result"
    }
   ],
   "source": [
    "volunteers = pd.read_csv(data_folder_path + 'Base_info.csv')\n",
    "volunteers"
   ],
   "metadata": {
    "collapsed": false,
    "pycharm": {
     "name": "#%%\n"
    }
   }
  },
  {
   "cell_type": "markdown",
   "source": [
    "### RAW_dualbelt"
   ],
   "metadata": {
    "collapsed": false,
    "pycharm": {
     "name": "#%% md\n"
    }
   }
  },
  {
   "cell_type": "code",
   "execution_count": 4,
   "outputs": [
    {
     "data": {
      "text/plain": "    time       Fx       Fy        Fz     COPx     COPy  pacing  footstrike\n0  0.000  -90.232 -127.233  1737.469 -0.04018  0.28414       0           0\n1  0.002 -107.536  -69.598  1731.104 -0.02988  0.30349       0           0\n2  0.004  -88.816 -100.793  1740.539 -0.03419  0.27675       0           0\n3  0.006  -46.717  -36.228  1730.448 -0.04171  0.29531       0           0\n4  0.008  -74.460   11.661  1730.951 -0.03664  0.29063       0           0",
      "text/html": "<div>\n<style scoped>\n    .dataframe tbody tr th:only-of-type {\n        vertical-align: middle;\n    }\n\n    .dataframe tbody tr th {\n        vertical-align: top;\n    }\n\n    .dataframe thead th {\n        text-align: right;\n    }\n</style>\n<table border=\"1\" class=\"dataframe\">\n  <thead>\n    <tr style=\"text-align: right;\">\n      <th></th>\n      <th>time</th>\n      <th>Fx</th>\n      <th>Fy</th>\n      <th>Fz</th>\n      <th>COPx</th>\n      <th>COPy</th>\n      <th>pacing</th>\n      <th>footstrike</th>\n    </tr>\n  </thead>\n  <tbody>\n    <tr>\n      <th>0</th>\n      <td>0.000</td>\n      <td>-90.232</td>\n      <td>-127.233</td>\n      <td>1737.469</td>\n      <td>-0.04018</td>\n      <td>0.28414</td>\n      <td>0</td>\n      <td>0</td>\n    </tr>\n    <tr>\n      <th>1</th>\n      <td>0.002</td>\n      <td>-107.536</td>\n      <td>-69.598</td>\n      <td>1731.104</td>\n      <td>-0.02988</td>\n      <td>0.30349</td>\n      <td>0</td>\n      <td>0</td>\n    </tr>\n    <tr>\n      <th>2</th>\n      <td>0.004</td>\n      <td>-88.816</td>\n      <td>-100.793</td>\n      <td>1740.539</td>\n      <td>-0.03419</td>\n      <td>0.27675</td>\n      <td>0</td>\n      <td>0</td>\n    </tr>\n    <tr>\n      <th>3</th>\n      <td>0.006</td>\n      <td>-46.717</td>\n      <td>-36.228</td>\n      <td>1730.448</td>\n      <td>-0.04171</td>\n      <td>0.29531</td>\n      <td>0</td>\n      <td>0</td>\n    </tr>\n    <tr>\n      <th>4</th>\n      <td>0.008</td>\n      <td>-74.460</td>\n      <td>11.661</td>\n      <td>1730.951</td>\n      <td>-0.03664</td>\n      <td>0.29063</td>\n      <td>0</td>\n      <td>0</td>\n    </tr>\n  </tbody>\n</table>\n</div>"
     },
     "execution_count": 4,
     "metadata": {},
     "output_type": "execute_result"
    }
   ],
   "source": [
    "pd.read_csv(data_folder_path + 'RAW_dualbelt/NP01_R_1.csv').head()"
   ],
   "metadata": {
    "collapsed": false,
    "pycharm": {
     "name": "#%%\n"
    }
   }
  },
  {
   "cell_type": "code",
   "execution_count": 5,
   "outputs": [
    {
     "data": {
      "text/plain": "    time      Fx      Fy       Fz     COPx     COPy  pacing  footstrike\n0  0.000  -6.988  58.909   91.407  0.32527  0.47447       1           0\n1  0.002 -16.044  24.153  108.611  0.37850  0.33465       0           0\n2  0.004 -11.528  -9.401  121.881  0.35801  0.21589       0           0\n3  0.006 -24.418  14.197   91.720  0.47600  0.58341       0           0\n4  0.008 -33.502 -42.647  130.707  0.28986  0.30084       0           1",
      "text/html": "<div>\n<style scoped>\n    .dataframe tbody tr th:only-of-type {\n        vertical-align: middle;\n    }\n\n    .dataframe tbody tr th {\n        vertical-align: top;\n    }\n\n    .dataframe thead th {\n        text-align: right;\n    }\n</style>\n<table border=\"1\" class=\"dataframe\">\n  <thead>\n    <tr style=\"text-align: right;\">\n      <th></th>\n      <th>time</th>\n      <th>Fx</th>\n      <th>Fy</th>\n      <th>Fz</th>\n      <th>COPx</th>\n      <th>COPy</th>\n      <th>pacing</th>\n      <th>footstrike</th>\n    </tr>\n  </thead>\n  <tbody>\n    <tr>\n      <th>0</th>\n      <td>0.000</td>\n      <td>-6.988</td>\n      <td>58.909</td>\n      <td>91.407</td>\n      <td>0.32527</td>\n      <td>0.47447</td>\n      <td>1</td>\n      <td>0</td>\n    </tr>\n    <tr>\n      <th>1</th>\n      <td>0.002</td>\n      <td>-16.044</td>\n      <td>24.153</td>\n      <td>108.611</td>\n      <td>0.37850</td>\n      <td>0.33465</td>\n      <td>0</td>\n      <td>0</td>\n    </tr>\n    <tr>\n      <th>2</th>\n      <td>0.004</td>\n      <td>-11.528</td>\n      <td>-9.401</td>\n      <td>121.881</td>\n      <td>0.35801</td>\n      <td>0.21589</td>\n      <td>0</td>\n      <td>0</td>\n    </tr>\n    <tr>\n      <th>3</th>\n      <td>0.006</td>\n      <td>-24.418</td>\n      <td>14.197</td>\n      <td>91.720</td>\n      <td>0.47600</td>\n      <td>0.58341</td>\n      <td>0</td>\n      <td>0</td>\n    </tr>\n    <tr>\n      <th>4</th>\n      <td>0.008</td>\n      <td>-33.502</td>\n      <td>-42.647</td>\n      <td>130.707</td>\n      <td>0.28986</td>\n      <td>0.30084</td>\n      <td>0</td>\n      <td>1</td>\n    </tr>\n  </tbody>\n</table>\n</div>"
     },
     "execution_count": 5,
     "metadata": {},
     "output_type": "execute_result"
    }
   ],
   "source": [
    "pd.read_csv(data_folder_path + 'RAW_dualbelt/PNPfast_R_1.csv').head()"
   ],
   "metadata": {
    "collapsed": false,
    "pycharm": {
     "name": "#%%\n"
    }
   }
  },
  {
   "cell_type": "code",
   "execution_count": 6,
   "outputs": [
    {
     "data": {
      "text/plain": "    time      Fx      Fy      Fz     COPx     COPy  pacing  footstrike\n0  0.000   4.023  47.404  66.742  0.39145  0.23338       1           0\n1  0.002   2.500  33.250  79.876  0.26764  0.09846       0           0\n2  0.004   1.331  11.696  84.419  0.13026  0.06111       0           0\n3  0.006  -0.876  47.814  69.916  0.16374  0.48359       0           0\n4  0.008  21.117   6.651  73.069  0.06998 -0.12067       0           0",
      "text/html": "<div>\n<style scoped>\n    .dataframe tbody tr th:only-of-type {\n        vertical-align: middle;\n    }\n\n    .dataframe tbody tr th {\n        vertical-align: top;\n    }\n\n    .dataframe thead th {\n        text-align: right;\n    }\n</style>\n<table border=\"1\" class=\"dataframe\">\n  <thead>\n    <tr style=\"text-align: right;\">\n      <th></th>\n      <th>time</th>\n      <th>Fx</th>\n      <th>Fy</th>\n      <th>Fz</th>\n      <th>COPx</th>\n      <th>COPy</th>\n      <th>pacing</th>\n      <th>footstrike</th>\n    </tr>\n  </thead>\n  <tbody>\n    <tr>\n      <th>0</th>\n      <td>0.000</td>\n      <td>4.023</td>\n      <td>47.404</td>\n      <td>66.742</td>\n      <td>0.39145</td>\n      <td>0.23338</td>\n      <td>1</td>\n      <td>0</td>\n    </tr>\n    <tr>\n      <th>1</th>\n      <td>0.002</td>\n      <td>2.500</td>\n      <td>33.250</td>\n      <td>79.876</td>\n      <td>0.26764</td>\n      <td>0.09846</td>\n      <td>0</td>\n      <td>0</td>\n    </tr>\n    <tr>\n      <th>2</th>\n      <td>0.004</td>\n      <td>1.331</td>\n      <td>11.696</td>\n      <td>84.419</td>\n      <td>0.13026</td>\n      <td>0.06111</td>\n      <td>0</td>\n      <td>0</td>\n    </tr>\n    <tr>\n      <th>3</th>\n      <td>0.006</td>\n      <td>-0.876</td>\n      <td>47.814</td>\n      <td>69.916</td>\n      <td>0.16374</td>\n      <td>0.48359</td>\n      <td>0</td>\n      <td>0</td>\n    </tr>\n    <tr>\n      <th>4</th>\n      <td>0.008</td>\n      <td>21.117</td>\n      <td>6.651</td>\n      <td>73.069</td>\n      <td>0.06998</td>\n      <td>-0.12067</td>\n      <td>0</td>\n      <td>0</td>\n    </tr>\n  </tbody>\n</table>\n</div>"
     },
     "execution_count": 6,
     "metadata": {},
     "output_type": "execute_result"
    }
   ],
   "source": [
    "pd.read_csv(data_folder_path + 'RAW_dualbelt/PNPpref_R_1.csv').head()"
   ],
   "metadata": {
    "collapsed": false,
    "pycharm": {
     "name": "#%%\n"
    }
   }
  },
  {
   "cell_type": "markdown",
   "source": [
    "### RAW_headset"
   ],
   "metadata": {
    "collapsed": false,
    "pycharm": {
     "name": "#%% md\n"
    }
   }
  },
  {
   "cell_type": "code",
   "execution_count": 7,
   "outputs": [
    {
     "data": {
      "text/plain": "      time        ax        ay        az  timestamp  beepbop\n0  471.312 -6.858627  4.799749 -1.230425          0   471.31\n1  471.314 -6.454296  4.489725 -1.188051          0   471.31\n2  471.316 -6.066629  4.093151 -1.162367          0   471.31\n3  471.318 -5.684240  3.753069 -1.140020          0   471.31\n4  471.320 -5.324033  3.369685 -1.071503          0   471.31",
      "text/html": "<div>\n<style scoped>\n    .dataframe tbody tr th:only-of-type {\n        vertical-align: middle;\n    }\n\n    .dataframe tbody tr th {\n        vertical-align: top;\n    }\n\n    .dataframe thead th {\n        text-align: right;\n    }\n</style>\n<table border=\"1\" class=\"dataframe\">\n  <thead>\n    <tr style=\"text-align: right;\">\n      <th></th>\n      <th>time</th>\n      <th>ax</th>\n      <th>ay</th>\n      <th>az</th>\n      <th>timestamp</th>\n      <th>beepbop</th>\n    </tr>\n  </thead>\n  <tbody>\n    <tr>\n      <th>0</th>\n      <td>471.312</td>\n      <td>-6.858627</td>\n      <td>4.799749</td>\n      <td>-1.230425</td>\n      <td>0</td>\n      <td>471.31</td>\n    </tr>\n    <tr>\n      <th>1</th>\n      <td>471.314</td>\n      <td>-6.454296</td>\n      <td>4.489725</td>\n      <td>-1.188051</td>\n      <td>0</td>\n      <td>471.31</td>\n    </tr>\n    <tr>\n      <th>2</th>\n      <td>471.316</td>\n      <td>-6.066629</td>\n      <td>4.093151</td>\n      <td>-1.162367</td>\n      <td>0</td>\n      <td>471.31</td>\n    </tr>\n    <tr>\n      <th>3</th>\n      <td>471.318</td>\n      <td>-5.684240</td>\n      <td>3.753069</td>\n      <td>-1.140020</td>\n      <td>0</td>\n      <td>471.31</td>\n    </tr>\n    <tr>\n      <th>4</th>\n      <td>471.320</td>\n      <td>-5.324033</td>\n      <td>3.369685</td>\n      <td>-1.071503</td>\n      <td>0</td>\n      <td>471.31</td>\n    </tr>\n  </tbody>\n</table>\n</div>"
     },
     "execution_count": 7,
     "metadata": {},
     "output_type": "execute_result"
    }
   ],
   "source": [
    "pd.read_csv(data_folder_path + 'RAW_headset/NP01_R_2_headset.csv').head()"
   ],
   "metadata": {
    "collapsed": false,
    "pycharm": {
     "name": "#%%\n"
    }
   }
  },
  {
   "cell_type": "code",
   "execution_count": 8,
   "outputs": [
    {
     "data": {
      "text/plain": "     time        ax        ay        az  timestamp  beepbop\n0  14.758 -2.941207  0.778647 -0.028842          0   14.697\n1  14.760 -2.598074  0.533161  0.002640          0   14.697\n2  14.762 -2.262355  0.314842 -0.021209          0   14.697\n3  14.764 -1.915347  0.090039 -0.052178          0   14.697\n4  14.766 -1.582235 -0.074288 -0.049884          0   14.697",
      "text/html": "<div>\n<style scoped>\n    .dataframe tbody tr th:only-of-type {\n        vertical-align: middle;\n    }\n\n    .dataframe tbody tr th {\n        vertical-align: top;\n    }\n\n    .dataframe thead th {\n        text-align: right;\n    }\n</style>\n<table border=\"1\" class=\"dataframe\">\n  <thead>\n    <tr style=\"text-align: right;\">\n      <th></th>\n      <th>time</th>\n      <th>ax</th>\n      <th>ay</th>\n      <th>az</th>\n      <th>timestamp</th>\n      <th>beepbop</th>\n    </tr>\n  </thead>\n  <tbody>\n    <tr>\n      <th>0</th>\n      <td>14.758</td>\n      <td>-2.941207</td>\n      <td>0.778647</td>\n      <td>-0.028842</td>\n      <td>0</td>\n      <td>14.697</td>\n    </tr>\n    <tr>\n      <th>1</th>\n      <td>14.760</td>\n      <td>-2.598074</td>\n      <td>0.533161</td>\n      <td>0.002640</td>\n      <td>0</td>\n      <td>14.697</td>\n    </tr>\n    <tr>\n      <th>2</th>\n      <td>14.762</td>\n      <td>-2.262355</td>\n      <td>0.314842</td>\n      <td>-0.021209</td>\n      <td>0</td>\n      <td>14.697</td>\n    </tr>\n    <tr>\n      <th>3</th>\n      <td>14.764</td>\n      <td>-1.915347</td>\n      <td>0.090039</td>\n      <td>-0.052178</td>\n      <td>0</td>\n      <td>14.697</td>\n    </tr>\n    <tr>\n      <th>4</th>\n      <td>14.766</td>\n      <td>-1.582235</td>\n      <td>-0.074288</td>\n      <td>-0.049884</td>\n      <td>0</td>\n      <td>14.697</td>\n    </tr>\n  </tbody>\n</table>\n</div>"
     },
     "execution_count": 8,
     "metadata": {},
     "output_type": "execute_result"
    }
   ],
   "source": [
    "pd.read_csv(data_folder_path + 'RAW_headset/PNPfast_R_2_headset.csv').head()"
   ],
   "metadata": {
    "collapsed": false,
    "pycharm": {
     "name": "#%%\n"
    }
   }
  },
  {
   "cell_type": "code",
   "execution_count": 9,
   "outputs": [
    {
     "data": {
      "text/plain": "     time        ax        ay        az  timestamp  beepbop\n0  14.958 -7.115734  8.003204  0.279845          0   14.894\n1  14.960 -4.587226  7.097754  0.272158          0   14.894\n2  14.962 -3.090340  6.464921  0.500347          0   14.894\n3  14.964 -2.639375  5.878021  0.604168          0   14.894\n4  14.966 -3.113178  5.484114  0.622502          0   14.894",
      "text/html": "<div>\n<style scoped>\n    .dataframe tbody tr th:only-of-type {\n        vertical-align: middle;\n    }\n\n    .dataframe tbody tr th {\n        vertical-align: top;\n    }\n\n    .dataframe thead th {\n        text-align: right;\n    }\n</style>\n<table border=\"1\" class=\"dataframe\">\n  <thead>\n    <tr style=\"text-align: right;\">\n      <th></th>\n      <th>time</th>\n      <th>ax</th>\n      <th>ay</th>\n      <th>az</th>\n      <th>timestamp</th>\n      <th>beepbop</th>\n    </tr>\n  </thead>\n  <tbody>\n    <tr>\n      <th>0</th>\n      <td>14.958</td>\n      <td>-7.115734</td>\n      <td>8.003204</td>\n      <td>0.279845</td>\n      <td>0</td>\n      <td>14.894</td>\n    </tr>\n    <tr>\n      <th>1</th>\n      <td>14.960</td>\n      <td>-4.587226</td>\n      <td>7.097754</td>\n      <td>0.272158</td>\n      <td>0</td>\n      <td>14.894</td>\n    </tr>\n    <tr>\n      <th>2</th>\n      <td>14.962</td>\n      <td>-3.090340</td>\n      <td>6.464921</td>\n      <td>0.500347</td>\n      <td>0</td>\n      <td>14.894</td>\n    </tr>\n    <tr>\n      <th>3</th>\n      <td>14.964</td>\n      <td>-2.639375</td>\n      <td>5.878021</td>\n      <td>0.604168</td>\n      <td>0</td>\n      <td>14.894</td>\n    </tr>\n    <tr>\n      <th>4</th>\n      <td>14.966</td>\n      <td>-3.113178</td>\n      <td>5.484114</td>\n      <td>0.622502</td>\n      <td>0</td>\n      <td>14.894</td>\n    </tr>\n  </tbody>\n</table>\n</div>"
     },
     "execution_count": 9,
     "metadata": {},
     "output_type": "execute_result"
    }
   ],
   "source": [
    "pd.read_csv(data_folder_path + 'RAW_headset/PNPpref_R_2_headset.csv').head()"
   ],
   "metadata": {
    "collapsed": false,
    "pycharm": {
     "name": "#%%\n"
    }
   }
  },
  {
   "cell_type": "markdown",
   "source": [
    "### Calculated Variables"
   ],
   "metadata": {
    "collapsed": false,
    "pycharm": {
     "name": "#%% md\n"
    }
   }
  },
  {
   "cell_type": "code",
   "execution_count": 10,
   "outputs": [
    {
     "data": {
      "text/plain": "   interval_footstrikes  interval_beeps  step_frequency  pacing_frequency\n0                 0.392             NaN         153.061               NaN\n1                 0.396             NaN         151.515               NaN\n2                 0.412             NaN         145.631               NaN\n3                 0.404             NaN         148.515               NaN\n4                 0.402             NaN         149.254               NaN\n5                 0.390             NaN         153.846               NaN\n6                 0.404             NaN         148.515               NaN\n7                 0.388             NaN         154.639               NaN\n8                 0.410             NaN         146.341               NaN\n9                 0.396             NaN         151.515               NaN",
      "text/html": "<div>\n<style scoped>\n    .dataframe tbody tr th:only-of-type {\n        vertical-align: middle;\n    }\n\n    .dataframe tbody tr th {\n        vertical-align: top;\n    }\n\n    .dataframe thead th {\n        text-align: right;\n    }\n</style>\n<table border=\"1\" class=\"dataframe\">\n  <thead>\n    <tr style=\"text-align: right;\">\n      <th></th>\n      <th>interval_footstrikes</th>\n      <th>interval_beeps</th>\n      <th>step_frequency</th>\n      <th>pacing_frequency</th>\n    </tr>\n  </thead>\n  <tbody>\n    <tr>\n      <th>0</th>\n      <td>0.392</td>\n      <td>NaN</td>\n      <td>153.061</td>\n      <td>NaN</td>\n    </tr>\n    <tr>\n      <th>1</th>\n      <td>0.396</td>\n      <td>NaN</td>\n      <td>151.515</td>\n      <td>NaN</td>\n    </tr>\n    <tr>\n      <th>2</th>\n      <td>0.412</td>\n      <td>NaN</td>\n      <td>145.631</td>\n      <td>NaN</td>\n    </tr>\n    <tr>\n      <th>3</th>\n      <td>0.404</td>\n      <td>NaN</td>\n      <td>148.515</td>\n      <td>NaN</td>\n    </tr>\n    <tr>\n      <th>4</th>\n      <td>0.402</td>\n      <td>NaN</td>\n      <td>149.254</td>\n      <td>NaN</td>\n    </tr>\n    <tr>\n      <th>5</th>\n      <td>0.390</td>\n      <td>NaN</td>\n      <td>153.846</td>\n      <td>NaN</td>\n    </tr>\n    <tr>\n      <th>6</th>\n      <td>0.404</td>\n      <td>NaN</td>\n      <td>148.515</td>\n      <td>NaN</td>\n    </tr>\n    <tr>\n      <th>7</th>\n      <td>0.388</td>\n      <td>NaN</td>\n      <td>154.639</td>\n      <td>NaN</td>\n    </tr>\n    <tr>\n      <th>8</th>\n      <td>0.410</td>\n      <td>NaN</td>\n      <td>146.341</td>\n      <td>NaN</td>\n    </tr>\n    <tr>\n      <th>9</th>\n      <td>0.396</td>\n      <td>NaN</td>\n      <td>151.515</td>\n      <td>NaN</td>\n    </tr>\n  </tbody>\n</table>\n</div>"
     },
     "execution_count": 10,
     "metadata": {},
     "output_type": "execute_result"
    }
   ],
   "source": [
    "pd.read_csv(data_folder_path + 'calculated_variables/NP01_R_1_calculated.csv').head(10)"
   ],
   "metadata": {
    "collapsed": false,
    "pycharm": {
     "name": "#%%\n"
    }
   }
  },
  {
   "cell_type": "code",
   "execution_count": 11,
   "outputs": [
    {
     "data": {
      "text/plain": "   interval_footstrikes  interval_beeps  step_frequency  pacing_frequency\n0                 0.372             NaN         161.290               NaN\n1                 0.384             NaN         156.250               NaN\n2                 0.366             NaN         163.934               NaN\n3                 0.384             NaN         156.250               NaN\n4                 0.370             NaN         162.162               NaN",
      "text/html": "<div>\n<style scoped>\n    .dataframe tbody tr th:only-of-type {\n        vertical-align: middle;\n    }\n\n    .dataframe tbody tr th {\n        vertical-align: top;\n    }\n\n    .dataframe thead th {\n        text-align: right;\n    }\n</style>\n<table border=\"1\" class=\"dataframe\">\n  <thead>\n    <tr style=\"text-align: right;\">\n      <th></th>\n      <th>interval_footstrikes</th>\n      <th>interval_beeps</th>\n      <th>step_frequency</th>\n      <th>pacing_frequency</th>\n    </tr>\n  </thead>\n  <tbody>\n    <tr>\n      <th>0</th>\n      <td>0.372</td>\n      <td>NaN</td>\n      <td>161.290</td>\n      <td>NaN</td>\n    </tr>\n    <tr>\n      <th>1</th>\n      <td>0.384</td>\n      <td>NaN</td>\n      <td>156.250</td>\n      <td>NaN</td>\n    </tr>\n    <tr>\n      <th>2</th>\n      <td>0.366</td>\n      <td>NaN</td>\n      <td>163.934</td>\n      <td>NaN</td>\n    </tr>\n    <tr>\n      <th>3</th>\n      <td>0.384</td>\n      <td>NaN</td>\n      <td>156.250</td>\n      <td>NaN</td>\n    </tr>\n    <tr>\n      <th>4</th>\n      <td>0.370</td>\n      <td>NaN</td>\n      <td>162.162</td>\n      <td>NaN</td>\n    </tr>\n  </tbody>\n</table>\n</div>"
     },
     "execution_count": 11,
     "metadata": {},
     "output_type": "execute_result"
    }
   ],
   "source": [
    "pd.read_csv(data_folder_path + 'calculated_variables/NP02_R_1_calculated.csv').head()"
   ],
   "metadata": {
    "collapsed": false,
    "pycharm": {
     "name": "#%%\n"
    }
   }
  },
  {
   "cell_type": "code",
   "execution_count": 12,
   "outputs": [
    {
     "data": {
      "text/plain": "   interval_footstrikes  interval_beeps  step_frequency  pacing_frequency\n0                 0.364           0.362         164.835           165.746\n1                 0.380           0.360         157.895           166.667\n2                 0.366           0.362         163.934           165.746\n3                 0.376           0.360         159.574           166.667\n4                 0.342           0.362         175.439           165.746",
      "text/html": "<div>\n<style scoped>\n    .dataframe tbody tr th:only-of-type {\n        vertical-align: middle;\n    }\n\n    .dataframe tbody tr th {\n        vertical-align: top;\n    }\n\n    .dataframe thead th {\n        text-align: right;\n    }\n</style>\n<table border=\"1\" class=\"dataframe\">\n  <thead>\n    <tr style=\"text-align: right;\">\n      <th></th>\n      <th>interval_footstrikes</th>\n      <th>interval_beeps</th>\n      <th>step_frequency</th>\n      <th>pacing_frequency</th>\n    </tr>\n  </thead>\n  <tbody>\n    <tr>\n      <th>0</th>\n      <td>0.364</td>\n      <td>0.362</td>\n      <td>164.835</td>\n      <td>165.746</td>\n    </tr>\n    <tr>\n      <th>1</th>\n      <td>0.380</td>\n      <td>0.360</td>\n      <td>157.895</td>\n      <td>166.667</td>\n    </tr>\n    <tr>\n      <th>2</th>\n      <td>0.366</td>\n      <td>0.362</td>\n      <td>163.934</td>\n      <td>165.746</td>\n    </tr>\n    <tr>\n      <th>3</th>\n      <td>0.376</td>\n      <td>0.360</td>\n      <td>159.574</td>\n      <td>166.667</td>\n    </tr>\n    <tr>\n      <th>4</th>\n      <td>0.342</td>\n      <td>0.362</td>\n      <td>175.439</td>\n      <td>165.746</td>\n    </tr>\n  </tbody>\n</table>\n</div>"
     },
     "execution_count": 12,
     "metadata": {},
     "output_type": "execute_result"
    }
   ],
   "source": [
    "pd.read_csv(data_folder_path + 'calculated_variables/PNPfast_R_1_calculated.csv').head()"
   ],
   "metadata": {
    "collapsed": false,
    "pycharm": {
     "name": "#%%\n"
    }
   }
  },
  {
   "cell_type": "code",
   "execution_count": 13,
   "outputs": [
    {
     "data": {
      "text/plain": "   interval_footstrikes  interval_beeps  step_frequency  pacing_frequency\n0                 0.384           0.402         156.250           149.254\n1                 0.306           0.400         196.078           150.000\n2                 0.246           0.402         243.902           149.254\n3                 0.310           0.400         193.548           150.000\n4                 0.350           0.402         171.429           149.254",
      "text/html": "<div>\n<style scoped>\n    .dataframe tbody tr th:only-of-type {\n        vertical-align: middle;\n    }\n\n    .dataframe tbody tr th {\n        vertical-align: top;\n    }\n\n    .dataframe thead th {\n        text-align: right;\n    }\n</style>\n<table border=\"1\" class=\"dataframe\">\n  <thead>\n    <tr style=\"text-align: right;\">\n      <th></th>\n      <th>interval_footstrikes</th>\n      <th>interval_beeps</th>\n      <th>step_frequency</th>\n      <th>pacing_frequency</th>\n    </tr>\n  </thead>\n  <tbody>\n    <tr>\n      <th>0</th>\n      <td>0.384</td>\n      <td>0.402</td>\n      <td>156.250</td>\n      <td>149.254</td>\n    </tr>\n    <tr>\n      <th>1</th>\n      <td>0.306</td>\n      <td>0.400</td>\n      <td>196.078</td>\n      <td>150.000</td>\n    </tr>\n    <tr>\n      <th>2</th>\n      <td>0.246</td>\n      <td>0.402</td>\n      <td>243.902</td>\n      <td>149.254</td>\n    </tr>\n    <tr>\n      <th>3</th>\n      <td>0.310</td>\n      <td>0.400</td>\n      <td>193.548</td>\n      <td>150.000</td>\n    </tr>\n    <tr>\n      <th>4</th>\n      <td>0.350</td>\n      <td>0.402</td>\n      <td>171.429</td>\n      <td>149.254</td>\n    </tr>\n  </tbody>\n</table>\n</div>"
     },
     "execution_count": 13,
     "metadata": {},
     "output_type": "execute_result"
    }
   ],
   "source": [
    "pd.read_csv(data_folder_path + 'calculated_variables/PNPpref_R_1_calculated.csv').head()"
   ],
   "metadata": {
    "collapsed": false,
    "pycharm": {
     "name": "#%%\n"
    }
   }
  },
  {
   "cell_type": "markdown",
   "source": [
    "# Plot the pace"
   ],
   "metadata": {
    "collapsed": false,
    "pycharm": {
     "name": "#%% md\n"
    }
   }
  },
  {
   "cell_type": "code",
   "execution_count": 14,
   "outputs": [],
   "source": [
    "participant_number = str(3)\n",
    "test_number = '01'"
   ],
   "metadata": {
    "collapsed": false,
    "pycharm": {
     "name": "#%%\n"
    }
   }
  },
  {
   "cell_type": "code",
   "source": [
    "no_pacing = pd.read_csv(data_folder_path + ('calculated_variables/NP%s_R_%s_calculated.csv')%(test_number, participant_number))\n",
    "\n",
    "step_freq_1 = no_pacing['step_frequency'].to_numpy()\n",
    "print(str(len(step_freq_1)) + \" time steps\")\n",
    "timesteps = np.arange(0, len(step_freq_1))\n",
    "print(\"Averge step frequency \" + str(np.mean(step_freq_1)))\n",
    "\n",
    "plt.scatter(timesteps, step_freq_1)\n",
    "plt.axhline(y=np.mean(step_freq_1), color='k', linestyle='--')\n",
    "plt.axhline(y=np.mean(step_freq_1) + np.std(step_freq_1), color='y', linestyle='--')\n",
    "plt.axhline(y=np.mean(step_freq_1) - np.std(step_freq_1), color='y', linestyle='--')\n",
    "# plt.ylim([140, 160])\n",
    "plt.ylabel(r'spm')\n",
    "plt.xlabel(r'timestep')\n",
    "plt.title(r'No Pacing')\n",
    "plt.show()"
   ],
   "metadata": {
    "collapsed": false,
    "pycharm": {
     "name": "#%%\n"
    }
   },
   "execution_count": 15,
   "outputs": [
    {
     "name": "stdout",
     "output_type": "stream",
     "text": [
      "113 time steps\n",
      "Averge step frequency 171.71189380530976\n"
     ]
    },
    {
     "data": {
      "text/plain": "<Figure size 432x288 with 1 Axes>",
      "image/png": "[encoded data removed]"
     },
     "metadata": {
      "needs_background": "light"
     },
     "output_type": "display_data"
    }
   ]
  },
  {
   "cell_type": "code",
   "execution_count": 16,
   "outputs": [
    {
     "name": "stdout",
     "output_type": "stream",
     "text": [
      "431 time steps\n",
      "Averge step frequency 173.0968259860789\n"
     ]
    },
    {
     "data": {
      "text/plain": "<Figure size 432x288 with 1 Axes>",
      "image/png": "[encoded data removed]"
     },
     "metadata": {
      "needs_background": "light"
     },
     "output_type": "display_data"
    }
   ],
   "source": [
    "pacing_on = pd.read_csv(data_folder_path + 'calculated_variables/PNPpref_R_'+ participant_number +'_calculated.csv')\n",
    "\n",
    "step_freq_2 = pacing_on['step_frequency'].to_numpy()\n",
    "print(str(len(step_freq_2)) + \" time steps\")\n",
    "timesteps = np.arange(0, len(step_freq_2))\n",
    "print(\"Averge step frequency \" + str(np.mean(step_freq_2)))\n",
    "\n",
    "plt.scatter(timesteps, step_freq_2)\n",
    "plt.axhline(y=np.mean(step_freq_1), color='k', linestyle='--')\n",
    "plt.axhline(y=np.mean(step_freq_1) + np.std(step_freq_1), color='y', linestyle='--')\n",
    "plt.axhline(y=np.mean(step_freq_1) - np.std(step_freq_1), color='y', linestyle='--')\n",
    "# plt.ylim([140, 165])\n",
    "plt.ylabel(r'spm')\n",
    "plt.xlabel(r'timestep')\n",
    "plt.title(r'Regulated Pacing')\n",
    "plt.show()"
   ],
   "metadata": {
    "collapsed": false,
    "pycharm": {
     "name": "#%%\n"
    }
   }
  },
  {
   "cell_type": "code",
   "execution_count": 17,
   "outputs": [
    {
     "name": "stdout",
     "output_type": "stream",
     "text": [
      "431 time steps\n",
      "Averge step frequency nan\n"
     ]
    },
    {
     "data": {
      "text/plain": "<Figure size 432x288 with 1 Axes>",
      "image/png": "[encoded data removed]"
     },
     "metadata": {
      "needs_background": "light"
     },
     "output_type": "display_data"
    }
   ],
   "source": [
    "pacing_on = pd.read_csv(data_folder_path + 'calculated_variables/PNPpref_R_'+ participant_number +'_calculated.csv')\n",
    "\n",
    "step_freq_3 = pacing_on['pacing_frequency'].to_numpy()\n",
    "print(str(len(step_freq_3)) + \" time steps\")\n",
    "timesteps = np.arange(0, len(step_freq_3))\n",
    "print(\"Averge step frequency \" + str(np.mean(step_freq_3)))\n",
    "\n",
    "plt.scatter(timesteps, step_freq_3)\n",
    "plt.axhline(y=np.mean(step_freq_1), color='k', linestyle='--')\n",
    "plt.axhline(y=np.mean(step_freq_1) + np.std(step_freq_1), color='y', linestyle='--')\n",
    "plt.axhline(y=np.mean(step_freq_1) - np.std(step_freq_1), color='y', linestyle='--')\n",
    "# plt.ylim([140, 160])\n",
    "plt.ylabel(r'spm')\n",
    "plt.xlabel(r'timestep')\n",
    "plt.title(r'Regulated Pacing')\n",
    "plt.show()"
   ],
   "metadata": {
    "collapsed": false,
    "pycharm": {
     "name": "#%%\n"
    }
   }
  }
 ],
 "metadata": {
  "kernelspec": {
   "display_name": "Python 3",
   "language": "python",
   "name": "python3"
  },
  "language_info": {
   "codemirror_mode": {
    "name": "ipython",
    "version": 2
   },
   "file_extension": ".py",
   "mimetype": "text/x-python",
   "name": "python",
   "nbconvert_exporter": "python",
   "pygments_lexer": "ipython2",
   "version": "2.7.6"
  }
 },
 "nbformat": 4,
 "nbformat_minor": 0
}