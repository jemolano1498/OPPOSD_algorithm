{
 "cells": [
  {
   "cell_type": "code",
   "execution_count": 1,
   "metadata": {
    "collapsed": true
   },
   "outputs": [],
   "source": [
    "# Pytorch and tools\n",
    "import torch as th\n",
    "import numpy as np\n",
    "import matplotlib.pyplot as plt\n",
    "from RunningEnv import EnvWrapper\n",
    "from Experiments import ActorCriticExperiment\n",
    "from Experiments import BatchActorCriticExperiment\n",
    "from Learners import ReinforceLearner\n",
    "from Learners import BatchReinforceLearner\n",
    "from Learners import ActorCriticLearner\n",
    "from Learners import OffpolicyActorCriticLearner\n",
    "from Learners import PPOLearner\n",
    "from Learners import BatchOffpolicyActorCriticLearner, BatchPPOLearner, OPPOSDLearner\n",
    "import pickle"
   ]
  },
  {
   "cell_type": "code",
   "execution_count": 2,
   "outputs": [],
   "source": [
    "pref_pace = 181\n",
    "target_pace = pref_pace * 1.1"
   ],
   "metadata": {
    "collapsed": false,
    "pycharm": {
     "name": "#%%\n"
    }
   }
  },
  {
   "cell_type": "code",
   "execution_count": 3,
   "outputs": [],
   "source": [
    "def default_params():\n",
    "    \"\"\" These are the default parameters used int eh framework. \"\"\"\n",
    "    return {  # Debugging outputs and plotting during training\n",
    "        'plot_frequency': 10,  # plots a debug message avery n steps\n",
    "        'plot_train_samples': True,  # whether the x-axis is env.steps (True) or episodes (False)\n",
    "        'print_when_plot': True,  # prints debug message if True\n",
    "        'print_dots': False,  # prints dots for every gradient update\n",
    "        # Environment parameters\n",
    "        'env': 'CartPole-v0',  # the environment the agent is learning in\n",
    "        'run_steps': 0,  # samples whole episodes if run_steps <= 0\n",
    "        'max_episode_length': 500,  # maximum number of steps per episode\n",
    "        # Runner parameters\n",
    "        'max_episodes': int(1E6),  # experiment stops after this many episodes\n",
    "        'max_batch_episodes': int(1E6),  # experiment stops after this many batch\n",
    "        'max_steps': int(1E9),  # experiment stops after this many steps\n",
    "        'multi_runner': False,  # uses multiple runners if True\n",
    "        'parallel_environments': 4,  # number of parallel runners  (only if multi_runner==True)\n",
    "        # Exploration parameters\n",
    "        'epsilon_anneal_time': int(5E3),  # exploration anneals epsilon over these many steps\n",
    "        'epsilon_finish': 0.1,  # annealing stops at (and keeps) this epsilon\n",
    "        'epsilon_start': 1,  # annealing starts at this epsilon\n",
    "        # Optimization parameters\n",
    "        'lr': 1E-4,  # 5E-4,                       # learning rate of optimizer\n",
    "        'gamma': 0.99,  # discount factor gamma\n",
    "        'batch_size': 2048,  # number of transitions in a mini-batch\n",
    "        'grad_norm_clip': 1,  # gradent clipping if grad norm is larger than this\n",
    "        # DQN parameters\n",
    "        'replay_buffer_size': int(1E5),  # the number of transitions in the replay buffer\n",
    "        'use_last_episode': True,  # whether the last episode is always sampled from the buffer\n",
    "        'target_model': True,  # whether a target model is used in DQN\n",
    "        'target_update': 'soft',  # 'soft' target update or hard update by regular 'copy'\n",
    "        'target_update_interval': 10,  # interval for the 'copy' target update\n",
    "        'soft_target_update_param': 0.01,  # update parameter for the 'soft' target update\n",
    "        'double_q': True,  # whether DQN uses double Q-learning\n",
    "        'grad_repeats': 1,  # how many gradient updates / runner call\n",
    "        # Image input parameters\n",
    "        'pixel_observations': False,  # use pixel observations (we will not use this feature here)\n",
    "        'pixel_resolution': (78, 78),  # scale image to this resoluton\n",
    "        'pixel_grayscale': True,  # convert image into grayscale\n",
    "        'pixel_add_last_obs': True,  # stacks 2 observations\n",
    "        'pixel_last_obs_delay': 3,  # delay between the two stacked observations\n",
    "\n",
    "        # Runners env\n",
    "        'pref_pace': 181,  # Athlete's preferred pace\n",
    "        'target_pace': pref_pace * 1.1,  # Athlete's target pace\n",
    "        'states_shape': (1,),  # Amount of states\n",
    "        'num_actions': 5,  # Possible actions\n",
    "    }"
   ],
   "metadata": {
    "collapsed": false,
    "pycharm": {
     "name": "#%%\n"
    }
   }
  },
  {
   "cell_type": "code",
   "execution_count": 4,
   "outputs": [],
   "source": [
    "def test_in_environment(experiment, env):\n",
    "    done = False\n",
    "    env.reset()\n",
    "    state = env.step(0)[0]\n",
    "    try_scores = []\n",
    "\n",
    "    for _ in range(50):\n",
    "        env.reset()\n",
    "        state = env.step(0)[0]\n",
    "        done = False\n",
    "        score = 0\n",
    "        time_step = 0\n",
    "        while not done:\n",
    "            pred = th.nn.functional.softmax(model_actor(th.tensor(state, dtype=th.float32).unsqueeze(dim=-1))[:, :n_actions], dim=-1)\n",
    "            action = th.distributions.Categorical(probs=pred).sample()\n",
    "            new_state, reward, done = env.step(action)\n",
    "            score += reward\n",
    "            state = new_state\n",
    "            if action > 0:\n",
    "                time_step = time_step + env.times[action % 5]\n",
    "            else:\n",
    "                time_step = time_step + 1\n",
    "        try_scores.append(score)\n",
    "    print(np.array(try_scores).mean())\n",
    "\n",
    "    # Print one episode\n",
    "\n",
    "    env.reset()\n",
    "    state = env.step(0)[0]\n",
    "    rewards = 0\n",
    "    done = False\n",
    "\n",
    "    while not done:\n",
    "        pred = th.nn.functional.softmax(model_actor(th.tensor(state, dtype=th.float32).unsqueeze(dim=-1))[:, :n_actions], dim=-1)\n",
    "        action = th.distributions.Categorical(probs=pred).sample()\n",
    "        new_state, reward, done = env.step(action)\n",
    "        # if reward < 0:\n",
    "        #     print(action, state, new_state, reward)\n",
    "        # if (action != 5):\n",
    "        # #     # print(action, (state+1)*pref_pace, (new_state+1)*pref_pace, reward)\n",
    "        # print(action, state, new_state, reward)\n",
    "        rewards += reward\n",
    "        state = new_state\n",
    "\n",
    "    x = np.linspace(0, len(env.env_pacing), len(env.env_pacing))\n",
    "    plt.figure()\n",
    "    plt.scatter(x[np.array(env.env_pacing) == 1], np.array(env.pace)[np.array(env.env_pacing) == 1], marker=\"x\",\n",
    "                label='Paced steps')\n",
    "    plt.scatter(x[np.array(env.env_pacing) == 0], np.array(env.pace)[np.array(env.env_pacing) == 0], marker=\"x\",\n",
    "                label='Not-paced steps')\n",
    "\n",
    "    # plt.scatter(x[np.array(env_pacing)==1], np.array(pace)[np.array(env_pacing)==1], marker=\"x\", label='Paced steps')\n",
    "    # plt.scatter(x[np.array(env_pacing)==0], np.array(pace)[np.array(env_pacing)==0], marker=\"x\", label='Not-paced steps')\n",
    "\n",
    "    # plt.scatter(x[np.array(pacing)==1], np.array(pacing)[np.array(pacing)==1]*181, color='r', marker=\"x\")\n",
    "    plt.axhline(y=target_pace, color='k', linestyle='--', label='Target Pace')\n",
    "\n",
    "    plt.plot(x, env.state_traj, 'r-', linewidth=2)\n",
    "    plt.legend()\n",
    "    plt.show()\n",
    "\n",
    "    print(rewards)"
   ],
   "metadata": {
    "collapsed": false,
    "pycharm": {
     "name": "#%%\n"
    }
   }
  },
  {
   "cell_type": "code",
   "execution_count": 5,
   "outputs": [],
   "source": [
    "params = default_params()\n",
    "env = EnvWrapper(params.get('pref_pace'), params.get('target_pace'))"
   ],
   "metadata": {
    "collapsed": false,
    "pycharm": {
     "name": "#%%\n"
    }
   }
  },
  {
   "cell_type": "code",
   "execution_count": null,
   "outputs": [],
   "source": [],
   "metadata": {
    "collapsed": false,
    "pycharm": {
     "name": "#%%\n"
    }
   }
  }
 ],
 "metadata": {
  "kernelspec": {
   "display_name": "Python 3",
   "language": "python",
   "name": "python3"
  },
  "language_info": {
   "codemirror_mode": {
    "name": "ipython",
    "version": 2
   },
   "file_extension": ".py",
   "mimetype": "text/x-python",
   "name": "python",
   "nbconvert_exporter": "python",
   "pygments_lexer": "ipython2",
   "version": "2.7.6"
  }
 },
 "nbformat": 4,
 "nbformat_minor": 0
}