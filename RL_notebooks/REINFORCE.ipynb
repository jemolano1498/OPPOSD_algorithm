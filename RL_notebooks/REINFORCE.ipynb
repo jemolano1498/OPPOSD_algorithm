{
 "cells": [
  {
   "cell_type": "code",
   "execution_count": 1,
   "metadata": {},
   "outputs": [],
   "source": [
    "import torch\n",
    "import torch.nn as nn\n",
    "import torch.nn.functional as F\n",
    "import torch.optim as optim\n",
    "from torch.distributions import Categorical\n",
    "\n",
    "import gym\n",
    "from tqdm import tqdm_notebook"
   ]
  },
  {
   "cell_type": "code",
   "execution_count": 2,
   "metadata": {},
   "outputs": [],
   "source": [
    "#discount factor for future utilities\n",
    "DISCOUNT_FACTOR = 0.99\n",
    "\n",
    "#number of episodes to run\n",
    "NUM_EPISODES = 1000\n",
    "\n",
    "#max steps per episode\n",
    "MAX_STEPS = 10000\n",
    "\n",
    "#device to run model on \n",
    "DEVICE = \"cuda\" if torch.cuda.is_available() else \"cpu\""
   ]
  },
  {
   "cell_type": "code",
   "execution_count": 3,
   "metadata": {},
   "outputs": [],
   "source": [
    "#Using a neural network to learn our policy parameters\n",
    "class PolicyNetwork(nn.Module):\n",
    "    \n",
    "    #Takes in observations and outputs actions\n",
    "    def __init__(self, observation_space, action_space):\n",
    "        super(PolicyNetwork, self).__init__()\n",
    "        self.input_layer = nn.Linear(observation_space, 128)\n",
    "        self.output_layer = nn.Linear(128, action_space)\n",
    "    \n",
    "    #forward pass\n",
    "    def forward(self, x):\n",
    "        #input states\n",
    "        x = self.input_layer(x)\n",
    "        \n",
    "        #relu activation\n",
    "        x = F.relu(x)\n",
    "        \n",
    "        #actions\n",
    "        actions = self.output_layer(x)\n",
    "        \n",
    "        #get softmax for a probability distribution\n",
    "        action_probs = F.softmax(actions, dim=1)\n",
    "        \n",
    "        return action_probs"
   ]
  },
  {
   "cell_type": "code",
   "execution_count": 4,
   "metadata": {},
   "outputs": [],
   "source": [
    "def select_action(network, state):\n",
    "    ''' Selects an action given current state\n",
    "    Args:\n",
    "    - network (Torch NN): network to process state\n",
    "    - state (Array): Array of action space in an environment\n",
    "    \n",
    "    Return:\n",
    "    - (int): action that is selected\n",
    "    - (float): log probability of selecting that action given state and network\n",
    "    '''\n",
    "    \n",
    "    #convert state to float tensor, add 1 dimension, allocate tensor on device\n",
    "    state = torch.from_numpy(state).float().unsqueeze(0).to(DEVICE)\n",
    "    \n",
    "    #use network to predict action probabilities\n",
    "    action_probs = network(state)\n",
    "    \n",
    "    #sample an action using the probability distribution\n",
    "    m = Categorical(action_probs)\n",
    "    action = m.sample()\n",
    "\n",
    "    #return action\n",
    "    return action.item(), m.log_prob(action)"
   ]
  },
  {
   "cell_type": "code",
   "execution_count": 5,
   "metadata": {},
   "outputs": [],
   "source": [
    "#Make environment\n",
    "env = gym.make('CartPole-v1')\n",
    "\n",
    "#Init network\n",
    "network = PolicyNetwork(env.observation_space.shape[0], env.action_space.n).to(DEVICE)\n",
    "\n",
    "#Init optimizer\n",
    "optimizer = optim.Adam(network.parameters(), lr=1e-2)"
   ]
  },
  {
   "cell_type": "code",
   "execution_count": 6,
   "metadata": {},
   "outputs": [
    {
     "data": {
      "text/plain": "(0, tensor([-0.6642], grad_fn=<SqueezeBackward1>))"
     },
     "execution_count": 6,
     "metadata": {},
     "output_type": "execute_result"
    }
   ],
   "source": [
    "state = env.reset()\n",
    "select_action(network, state)"
   ]
  },
  {
   "cell_type": "code",
   "execution_count": 7,
   "metadata": {},
   "outputs": [
    {
     "name": "stderr",
     "output_type": "stream",
     "text": [
      "C:\\Users\\TAAESJU2\\AppData\\Local\\Temp/ipykernel_37016/651593302.py:5: TqdmDeprecationWarning: This function will be removed in tqdm==5.0.0\n",
      "Please use `tqdm.notebook.tqdm` instead of `tqdm.tqdm_notebook`\n",
      "  for episode in tqdm_notebook(range(NUM_EPISODES)):\n"
     ]
    },
    {
     "data": {
      "text/plain": "  0%|          | 0/1000 [00:00<?, ?it/s]",
      "application/vnd.jupyter.widget-view+json": {
       "version_major": 2,
       "version_minor": 0,
       "model_id": "aee4c018b9c443bcb59dde738654b6f8"
      }
     },
     "metadata": {},
     "output_type": "display_data"
    }
   ],
   "source": [
    "#track scores\n",
    "scores = []\n",
    "\n",
    "#iterate through episodes\n",
    "for episode in tqdm_notebook(range(NUM_EPISODES)):\n",
    "    \n",
    "    #reset environment, initiable variables\n",
    "    state = env.reset()\n",
    "    rewards = []\n",
    "    log_probs = []\n",
    "    score = 0\n",
    "    \n",
    "    #generate episode\n",
    "    for step in range(MAX_STEPS):\n",
    "        # env.render()\n",
    "        \n",
    "        #select action\n",
    "        action, lp = select_action(network, state)\n",
    "        \n",
    "        #execute action\n",
    "        new_state, reward, done, _ = env.step(action)\n",
    "        \n",
    "        #track episode score\n",
    "        score += reward\n",
    "        \n",
    "        #store reward and log probability\n",
    "        rewards.append(reward)\n",
    "        log_probs.append(lp)\n",
    "        \n",
    "        #end episode\n",
    "        if done:\n",
    "            break\n",
    "        \n",
    "        #move into new state\n",
    "        state = new_state\n",
    "    \n",
    "    #append score\n",
    "    scores.append(score)\n",
    "        \n",
    "    #Calculate Gt (cumulative discounted rewards)\n",
    "    discounted_rewards = []\n",
    "    \n",
    "    #track cumulative reward\n",
    "    total_r = 0\n",
    "    \n",
    "    #iterate rewards from Gt to G0\n",
    "    for r in reversed(rewards):\n",
    "        \n",
    "        #Base case: G(T) = r(T)\n",
    "        #Recursive: G(t) = r(t) + G(t+1)^DISCOUNT\n",
    "        total_r = r + total_r ** DISCOUNT_FACTOR\n",
    "        \n",
    "        #append to discounted rewards\n",
    "        discounted_rewards.append(total_r)\n",
    "    \n",
    "    #reverse discounted rewards\n",
    "    rewards = torch.tensor(discounted_rewards).to(DEVICE)\n",
    "    rewards = torch.flip(rewards, [0])\n",
    "    \n",
    "    #adjusting policy parameters with gradient ascent\n",
    "    loss = []\n",
    "    for r, lp in zip(rewards, log_probs):\n",
    "        #we add a negative sign since network will perform gradient descent and we are doing gradient ascent with REINFORCE\n",
    "        loss.append(-r * lp)\n",
    "    \n",
    "        \n",
    "    #Backpropagation\n",
    "    optimizer.zero_grad()\n",
    "    sum(loss).backward()\n",
    "    optimizer.step()\n",
    "\n",
    "env.close()"
   ]
  },
  {
   "cell_type": "markdown",
   "metadata": {},
   "source": [
    "#### Plotting training score:"
   ]
  },
  {
   "cell_type": "code",
   "execution_count": 8,
   "metadata": {
    "scrolled": true
   },
   "outputs": [
    {
     "data": {
      "text/plain": "<Figure size 432x288 with 1 Axes>",
      "image/png": "[encoded data removed]"
     },
     "metadata": {},
     "output_type": "display_data"
    }
   ],
   "source": [
    "import matplotlib.pyplot as plt\n",
    "from sklearn.linear_model import LinearRegression\n",
    "import seaborn as sns\n",
    "import numpy as np\n",
    "\n",
    "sns.set()\n",
    "\n",
    "plt.plot(scores)\n",
    "plt.ylabel('score')\n",
    "plt.xlabel('episodes')\n",
    "plt.title('Training score of CartPole with REINFORCE')\n",
    "\n",
    "reg = LinearRegression().fit(np.arange(len(scores)).reshape(-1, 1), np.array(scores).reshape(-1, 1))\n",
    "y_pred = reg.predict(np.arange(len(scores)).reshape(-1, 1))\n",
    "plt.plot(y_pred)\n",
    "plt.show()"
   ]
  },
  {
   "cell_type": "markdown",
   "metadata": {},
   "source": [
    "#### Random Policy:"
   ]
  },
  {
   "cell_type": "code",
   "execution_count": 14,
   "metadata": {},
   "outputs": [],
   "source": [
    "done = False\n",
    "state = env.reset()\n",
    "scores = []\n",
    "\n",
    "for _ in range(10):\n",
    "    state = env.reset()\n",
    "    done = False\n",
    "    score = 0\n",
    "    while not done:\n",
    "        # env.render()\n",
    "        action = env.action_space.sample()\n",
    "        new_state, reward, done, info = env.step(action)\n",
    "        score += reward\n",
    "        state = new_state\n",
    "    scores.append(score)\n",
    "env.close()"
   ]
  },
  {
   "cell_type": "markdown",
   "metadata": {},
   "source": [
    "#### Trying Policy:"
   ]
  },
  {
   "cell_type": "code",
   "execution_count": 20,
   "metadata": {},
   "outputs": [
    {
     "name": "stderr",
     "output_type": "stream",
     "text": [
      "C:\\Users\\TAAESJU2\\AppData\\Local\\Temp/ipykernel_37016/694018136.py:5: TqdmDeprecationWarning: This function will be removed in tqdm==5.0.0\n",
      "Please use `tqdm.notebook.tqdm` instead of `tqdm.tqdm_notebook`\n",
      "  for _ in tqdm_notebook(range(50)):\n"
     ]
    },
    {
     "data": {
      "text/plain": "  0%|          | 0/50 [00:00<?, ?it/s]",
      "application/vnd.jupyter.widget-view+json": {
       "version_major": 2,
       "version_minor": 0,
       "model_id": "9c3ebc1d42fe41e59e6b37160280575e"
      }
     },
     "metadata": {},
     "output_type": "display_data"
    }
   ],
   "source": [
    "done = False\n",
    "state = env.reset()\n",
    "scores = []\n",
    "\n",
    "for _ in tqdm_notebook(range(50)):\n",
    "    state = env.reset()\n",
    "    done = False\n",
    "    score = 0\n",
    "    while not done:\n",
    "        # env.render()\n",
    "        action, lp = select_action(network, state)\n",
    "        new_state, reward, done, info = env.step(action)\n",
    "        score += reward\n",
    "        state = new_state\n",
    "    scores.append(score)\n",
    "env.close()"
   ]
  },
  {
   "cell_type": "code",
   "execution_count": 21,
   "metadata": {},
   "outputs": [
    {
     "data": {
      "text/plain": "268.62"
     },
     "execution_count": 21,
     "metadata": {},
     "output_type": "execute_result"
    }
   ],
   "source": [
    "np.array(scores).mean()"
   ]
  }
 ],
 "metadata": {
  "kernelspec": {
   "display_name": "Python 3",
   "language": "python",
   "name": "python3"
  },
  "language_info": {
   "codemirror_mode": {
    "name": "ipython",
    "version": 3
   },
   "file_extension": ".py",
   "mimetype": "text/x-python",
   "name": "python",
   "nbconvert_exporter": "python",
   "pygments_lexer": "ipython3",
   "version": "3.7.4"
  }
 },
 "nbformat": 4,
 "nbformat_minor": 2
}