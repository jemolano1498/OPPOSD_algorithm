{
 "cells": [
  {
   "cell_type": "code",
   "execution_count": 1,
   "outputs": [],
   "source": [
    "import torch\n",
    "import torch.nn as nn\n",
    "import torch.nn.functional as F\n",
    "import torch.optim as optim\n",
    "from torch.distributions import Categorical\n",
    "\n",
    "import gym\n",
    "import random\n",
    "from tqdm import tqdm_notebook\n",
    "import numpy as np\n",
    "from collections import deque"
   ],
   "metadata": {
    "collapsed": false,
    "pycharm": {
     "name": "#%%\n"
    }
   }
  },
  {
   "cell_type": "code",
   "execution_count": 2,
   "outputs": [],
   "source": [
    "#discount factor for future utilities\n",
    "γ = 0.99\n",
    "\n",
    "#number of episodes to run\n",
    "NUM_EPISODES = 100\n",
    "\n",
    "#max steps per episode\n",
    "MAX_STEPS = 5000\n",
    "\n",
    "#device to run model on\n",
    "DEVICE = \"cuda\" if torch.cuda.is_available() else \"cpu\"\n",
    "\n",
    "#Lambda weight decay constant\n",
    "λ = 0.3\n",
    "\n",
    "#actor learning rate\n",
    "αu = 0.001\n",
    "\n",
    "#critic/gtd learning rate\n",
    "αv = 0.005\n",
    "αw = 0.001"
   ],
   "metadata": {
    "collapsed": false,
    "pycharm": {
     "name": "#%%\n"
    }
   }
  },
  {
   "cell_type": "code",
   "execution_count": 3,
   "outputs": [],
   "source": [
    "def mult(weight_vector, feature_vector):\n",
    "    ''' Mulitplies weight vector by feature vector\n",
    "    Args:\n",
    "    - weight_vector (Tensor): vector of weights\n",
    "    - feature_vector (Tensor): vector of features\n",
    "\n",
    "    Return:\n",
    "    - product (Tensor): product of vectors\n",
    "\n",
    "    '''\n",
    "\n",
    "    #Transpose weight vector and multiply by feature vector\n",
    "    product = torch.matmul(torch.transpose(weight_vector, 0, 1), feature_vector)\n",
    "\n",
    "    #Return product\n",
    "    return product"
   ],
   "metadata": {
    "collapsed": false,
    "pycharm": {
     "name": "#%%\n"
    }
   }
  },
  {
   "cell_type": "code",
   "execution_count": 4,
   "outputs": [],
   "source": [
    "#Stationary behavior policy\n",
    "class BehavioralPolicy():\n",
    "\n",
    "    #Takes in observations and outputs actions\n",
    "    def __init__(self, observation_space, action_space):\n",
    "        super(BehavioralPolicy, self).__init__()\n",
    "        self.input_layer = nn.Linear(observation_space, 128)\n",
    "        self.output_layer = nn.Linear(128, action_space)\n",
    "\n",
    "    #forward pass\n",
    "    def forward(self, x):\n",
    "        #input states\n",
    "        x = self.input_layer(x)\n",
    "\n",
    "        #relu activation\n",
    "        x = F.relu(x)\n",
    "\n",
    "        #actions\n",
    "        actions = self.output_layer(x)\n",
    "\n",
    "        #get softmax for a probability distribution\n",
    "        action_probs = F.softmax(actions, dim=1)\n",
    "\n",
    "        return action_probs\n",
    "\n",
    "    #takes in distribution of action space\n",
    "    def __init__(self, distribution):\n",
    "        self.distribution = distribution\n",
    "\n",
    "    #get probability of action given state\n",
    "    def __call__(self, action, state):\n",
    "        prob = self.distribution[action]\n",
    "\n",
    "        return prob\n",
    "\n",
    "    #sample an action under behavior distribution\n",
    "    def choose_action(self, xs):\n",
    "        m = Categorical(self.distribution)\n",
    "        action = m.sample()\n",
    "\n",
    "        return action.item()"
   ],
   "metadata": {
    "collapsed": false,
    "pycharm": {
     "name": "#%%\n"
    }
   }
  },
  {
   "cell_type": "code",
   "execution_count": 5,
   "outputs": [],
   "source": [
    "#Target policy\n",
    "class TargetPolicy():\n",
    "\n",
    "    #initialize with policy parameters\n",
    "    def __init__(self, weight_vector):\n",
    "        self.u = weight_vector\n",
    "\n",
    "    #get probability of action given state\n",
    "    def __call__(self, action, xs):\n",
    "\n",
    "        #get distribution for current state\n",
    "        distribution = mult(self.u, xs)\n",
    "\n",
    "        #take softmax of distribution so its a probability [0, 1]\n",
    "        softmax = F.softmax(distribution, dim=0)\n",
    "\n",
    "        #return probability of action\n",
    "        return softmax[action]\n",
    "\n",
    "    #sample an action under target policy\n",
    "    def choose_action(self, xs):\n",
    "\n",
    "        #get distribution\n",
    "        distribution = mult(self.u, xs)\n",
    "\n",
    "        #take softmax of distribution so its a probability [0, 1]\n",
    "        softmax_dist = F.softmax(distribution, dim=0).squeeze(1)\n",
    "\n",
    "        #sample action\n",
    "        m = Categorical(softmax_dist)\n",
    "        action = m.sample()\n",
    "\n",
    "        return action.item()"
   ],
   "metadata": {
    "collapsed": false,
    "pycharm": {
     "name": "#%%\n"
    }
   }
  },
  {
   "cell_type": "code",
   "execution_count": 6,
   "outputs": [],
   "source": [
    "#learned value function\n",
    "class ValueFunction():\n",
    "\n",
    "    #initialize with value function parameters\n",
    "    def __init__(self, weight_vector):\n",
    "        self.v = weight_vector\n",
    "\n",
    "    #get value of given state\n",
    "    def __call__(self, xs):\n",
    "        val = mult(self.v, xs)\n",
    "\n",
    "        return val"
   ],
   "metadata": {
    "collapsed": false,
    "pycharm": {
     "name": "#%%\n"
    }
   }
  },
  {
   "cell_type": "code",
   "execution_count": 8,
   "outputs": [
    {
     "name": "stderr",
     "output_type": "stream",
     "text": [
      "Traceback (most recent call last):\n",
      "  File \"/snap/pycharm-professional/269/plugins/python/helpers/pydev/_pydevd_bundle/pydevd_frame.py\", line 861, in trace_dispatch\n",
      "    result = plugin_manager.cmd_step_over(main_debugger, frame, event, self._args, stop_info, stop)\n",
      "  File \"/snap/pycharm-professional/269/plugins/python/helpers-pro/jupyter_debug/pydev_jupyter_plugin.py\", line 144, in cmd_step_over\n",
      "    if _is_inside_jupyter_cell(frame, pydb):\n",
      "  File \"/snap/pycharm-professional/269/plugins/python/helpers-pro/jupyter_debug/pydev_jupyter_plugin.py\", line 209, in _is_inside_jupyter_cell\n",
      "    if is_cell_filename(filename):\n",
      "  File \"/snap/pycharm-professional/269/plugins/python/helpers-pro/jupyter_debug/pydev_jupyter_plugin.py\", line 220, in is_cell_filename\n",
      "    ipython_shell = get_ipython()\n",
      "NameError: name 'get_ipython' is not defined\n"
     ]
    }
   ],
   "source": [
    "#Make environment\n",
    "env = gym.make('CartPole-v1').env\n",
    "\n",
    "#env attributes\n",
    "obs_space = env.observation_space.shape[0]\n",
    "action_space = env.action_space.n\n",
    "\n",
    "\n",
    "#set seeds\n",
    "np.random.seed(43)\n",
    "random.seed(43)\n",
    "env.seed(43)\n",
    "torch.manual_seed(43)\n",
    "\n",
    "\n",
    "#Init weight vectors, should be matrices of dimensions (input, output)\n",
    "stdv = 1 / np.sqrt(obs_space)\n",
    "u = torch.Tensor(np.random.uniform(low=-stdv, high=stdv, size=(obs_space, action_space))).to(DEVICE)\n",
    "u.requires_grad = True\n",
    "v = torch.Tensor(np.random.uniform(low=-stdv, high=stdv, size=(obs_space, 1))).to(DEVICE)\n",
    "\n",
    "#Init trace vectors, should be same size as weight vectors\n",
    "eu = torch.Tensor(np.zeros((obs_space, action_space))).to(DEVICE)\n",
    "ev = torch.Tensor(np.zeros((obs_space, 1))).to(DEVICE)\n",
    "w = torch.Tensor(np.zeros((obs_space, 1))).to(DEVICE)\n",
    "\n",
    "#Init Behavior function, policy function, value function\n",
    "b = BehavioralPolicy(torch.Tensor(np.full(action_space, 1/action_space)).to(DEVICE))\n",
    "π = TargetPolicy(u)\n",
    "V = ValueFunction(v)\n",
    "\n",
    "\n",
    "#Note that we aren't initializing optimizers because we will be manually doing the update instead so we can use trace"
   ],
   "metadata": {
    "collapsed": false,
    "pycharm": {
     "name": "#%%\n"
    }
   }
  },
  {
   "cell_type": "code",
   "execution_count": 9,
   "outputs": [
    {
     "name": "stderr",
     "output_type": "stream",
     "text": [
      "/tmp/ipykernel_52134/1656730845.py:4: TqdmDeprecationWarning: This function will be removed in tqdm==5.0.0\n",
      "Please use `tqdm.notebook.tqdm` instead of `tqdm.tqdm_notebook`\n",
      "  for episode in tqdm_notebook(range(NUM_EPISODES*10)):\n"
     ]
    },
    {
     "data": {
      "text/plain": "  0%|          | 0/1000 [00:00<?, ?it/s]",
      "application/vnd.jupyter.widget-view+json": {
       "version_major": 2,
       "version_minor": 0,
       "model_id": "6a715d7410644a19b526b01e1825c41c"
      }
     },
     "metadata": {},
     "output_type": "display_data"
    }
   ],
   "source": [
    "scores = []\n",
    "\n",
    "#iterate through episodes\n",
    "for episode in tqdm_notebook(range(NUM_EPISODES*10)):\n",
    "\n",
    "    #init variables\n",
    "    state = env.reset()\n",
    "    done = False\n",
    "    score = 0\n",
    "\n",
    "    #iterate through episode\n",
    "    for step in range(MAX_STEPS):\n",
    "        #env.render()\n",
    "\n",
    "        #choose action a following b\n",
    "        a = b.choose_action(state)\n",
    "\n",
    "        #take step with action a\n",
    "        new_state, r, done, _ = env.step(a)\n",
    "\n",
    "        #track reward\n",
    "        score += r\n",
    "\n",
    "        #convert states to tensors\n",
    "        xs = torch.from_numpy(state).float().unsqueeze(1).to(DEVICE)\n",
    "\n",
    "        xs_new = torch.from_numpy(new_state).float().unsqueeze(1).to(DEVICE)\n",
    "\n",
    "        #calculate TD error\n",
    "        δ = r + γ * mult(V.v, xs) - mult(V.v, xs_new)\n",
    "\n",
    "        #calculate importance weight\n",
    "        ρ = π(a, xs).item() / b(a, xs).item()\n",
    "\n",
    "        #GTD(λ) algorithm:\n",
    "\n",
    "        #update critic trace\n",
    "        ev = ρ * (xs + γ * λ * ev)\n",
    "\n",
    "        #update critic weight vector\n",
    "        V.v = V.v + αv * (δ * ev - γ * (1-λ) * mult(w, xs) * xs)\n",
    "\n",
    "        #update critic w trace\n",
    "        w = w + αw * (δ * ev - mult(w, xs) * xs)\n",
    "\n",
    "        #update actor trace and actor parameters:\n",
    "\n",
    "        #calculate gradients of π(a|s)\n",
    "        π(a, xs).backward()\n",
    "\n",
    "        #calculate log probability of π(a|s)\n",
    "        ψ = π.u.grad / π(a, xs)\n",
    "\n",
    "        #update actor trace\n",
    "        eu = ρ * (ψ.detach() + γ * λ * eu.detach())\n",
    "\n",
    "        #update actor weight vector. Here we use detach so π.u is still a leaf tensor\n",
    "        π.u = π.u.detach() + αu * δ * eu.detach()\n",
    "        π.u.requires_grad = True\n",
    "\n",
    "        if done:\n",
    "            break\n",
    "\n",
    "        #transition to new state\n",
    "        state = new_state\n",
    "\n",
    "    #track episode score\n",
    "    scores.append(score)\n",
    "\n",
    "env.close()"
   ],
   "metadata": {
    "collapsed": false,
    "pycharm": {
     "name": "#%%\n"
    }
   }
  },
  {
   "cell_type": "code",
   "execution_count": 10,
   "outputs": [
    {
     "data": {
      "text/plain": "<Figure size 432x288 with 1 Axes>",
      "image/png": "[encoded data removed]"
     },
     "metadata": {},
     "output_type": "display_data"
    }
   ],
   "source": [
    "import matplotlib.pyplot as plt\n",
    "from sklearn.linear_model import LinearRegression\n",
    "import seaborn as sns\n",
    "import numpy as np\n",
    "\n",
    "sns.set()\n",
    "\n",
    "graphed_arr = scores\n",
    "\n",
    "plt.plot(graphed_arr)\n",
    "plt.ylabel('score')\n",
    "plt.xlabel('episodes')\n",
    "plt.title('History of behavior policy of MountainCar with Off-Policy Actor-Critic')\n",
    "\n",
    "reg = LinearRegression().fit(np.arange(len(graphed_arr)).reshape(-1, 1), np.array(graphed_arr).reshape(-1, 1))\n",
    "y_pred = reg.predict(np.arange(len(graphed_arr)).reshape(-1, 1))\n",
    "plt.plot(y_pred)\n",
    "plt.show()"
   ],
   "metadata": {
    "collapsed": false,
    "pycharm": {
     "name": "#%%\n"
    }
   }
  },
  {
   "cell_type": "markdown",
   "source": [],
   "metadata": {
    "collapsed": false
   }
  }
 ],
 "metadata": {
  "kernelspec": {
   "display_name": "Python 3",
   "language": "python",
   "name": "python3"
  },
  "language_info": {
   "codemirror_mode": {
    "name": "ipython",
    "version": 2
   },
   "file_extension": ".py",
   "mimetype": "text/x-python",
   "name": "python",
   "nbconvert_exporter": "python",
   "pygments_lexer": "ipython2",
   "version": "2.7.6"
  }
 },
 "nbformat": 4,
 "nbformat_minor": 0
}