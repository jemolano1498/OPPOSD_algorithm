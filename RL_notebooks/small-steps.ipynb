{
 "cells": [
  {
   "cell_type": "code",
   "execution_count": 2,
   "metadata": {
    "collapsed": true
   },
   "outputs": [],
   "source": [
    "import torch\n",
    "import torch.nn as nn\n",
    "import torch.nn.functional as F\n",
    "import torch.optim as optim\n",
    "from torch.distributions import Categorical\n",
    "\n",
    "import gym\n",
    "from tqdm import tqdm_notebook\n",
    "import numpy as np\n",
    "from collections import deque\n",
    "\n",
    "#number of episodes to run\n",
    "NUM_EPISODES = 1000\n",
    "\n",
    "#max steps per episode\n",
    "MAX_STEPS = 10000\n",
    "\n",
    "#score agent needs for environment to be solved\n",
    "SOLVED_SCORE = 195"
   ]
  },
  {
   "cell_type": "code",
   "execution_count": 37,
   "outputs": [],
   "source": [
    "class ReplaySet(object):\n",
    "    def __init__(self, max_size, input_shape, n_actions):\n",
    "        self.mem_size = max_size\n",
    "        self.mem_cntr = 0\n",
    "        self.state_memory = np.zeros((self.mem_size, *input_shape))\n",
    "        self.new_state_memory = np.zeros((self.mem_size, *input_shape))\n",
    "        self.action_memory = np.zeros((self.mem_size, n_actions))\n",
    "        self.reward_memory = np.zeros(self.mem_size)\n",
    "        self.terminal_memory = np.zeros(self.mem_size, dtype=np.float32)\n",
    "\n",
    "    def store_transition(self, state, action, reward, next_state, done):\n",
    "        index = self.mem_cntr % self.mem_size\n",
    "        self.state_memory[index] = state\n",
    "        self.new_state_memory[index] = next_state\n",
    "        self.action_memory[index] = action\n",
    "        self.reward_memory[index] = reward\n",
    "        self.terminal_memory[index] = 1 - done\n",
    "        self.mem_cntr += 1\n",
    "\n",
    "    def sample_buffer(self, batch_size):\n",
    "        max_mem = min(self.mem_cntr, self.mem_size)\n",
    "\n",
    "        batch = np.random.choice(max_mem, batch_size)\n",
    "\n",
    "        states = self.state_memory[batch]\n",
    "        actions = self.action_memory[batch]\n",
    "        rewards = self.reward_memory[batch]\n",
    "        states_ = self.new_state_memory[batch]\n",
    "        terminal = self.terminal_memory[batch]\n",
    "\n",
    "        return states, actions, rewards, states_, terminal"
   ],
   "metadata": {
    "collapsed": false,
    "pycharm": {
     "name": "#%%\n"
    }
   }
  },
  {
   "cell_type": "markdown",
   "source": [
    "# Play environment"
   ],
   "metadata": {
    "collapsed": false
   }
  },
  {
   "cell_type": "code",
   "execution_count": 39,
   "outputs": [],
   "source": [
    "#Make environment\n",
    "env = gym.make('CartPole-v1')\n",
    "replay_buffer = ReplaySet(MAX_STEPS, env.observation_space.shape, env.action_space.n)"
   ],
   "metadata": {
    "collapsed": false,
    "pycharm": {
     "name": "#%%\n"
    }
   }
  },
  {
   "cell_type": "code",
   "execution_count": 40,
   "outputs": [],
   "source": [
    "done = False\n",
    "state = env.reset()\n",
    "scores = []\n",
    "\n",
    "for _ in range(MAX_STEPS):\n",
    "    state = env.reset()\n",
    "    done = False\n",
    "    score = 0\n",
    "    while not done:\n",
    "        # env.render()\n",
    "        action = env.action_space.sample()\n",
    "        new_state, reward, done, info = env.step(action)\n",
    "        replay_buffer.store_transition(state, action, reward, new_state, done)\n",
    "        score += reward\n",
    "        state = new_state\n",
    "    scores.append(score)\n",
    "env.close()"
   ],
   "metadata": {
    "collapsed": false,
    "pycharm": {
     "name": "#%%\n"
    }
   }
  },
  {
   "cell_type": "markdown",
   "source": [
    "# Implement Actor\n",
    "Actor is the policy $\\pi$ that we play with. Is a neural network"
   ],
   "metadata": {
    "collapsed": false
   }
  },
  {
   "cell_type": "code",
   "execution_count": 56,
   "outputs": [],
   "source": [
    "#Using a neural network to learn our policy parameters\n",
    "class PolicyNetwork(nn.Module):\n",
    "\n",
    "    #Takes in observations and outputs actions\n",
    "    def __init__(self, observation_space, action_space):\n",
    "        super(PolicyNetwork, self).__init__()\n",
    "        self.input_layer = nn.Linear(observation_space, 128)\n",
    "        self.output_layer = nn.Linear(128, action_space)\n",
    "\n",
    "    #forward pass\n",
    "    def forward(self, x):\n",
    "        #input states\n",
    "        x = self.input_layer(x)\n",
    "\n",
    "        #relu activation\n",
    "        x = F.relu(x)\n",
    "\n",
    "        #actions\n",
    "        actions = self.output_layer(x)\n",
    "\n",
    "        #get softmax for a probability distribution\n",
    "        action_probs = F.softmax(actions, dim=1)\n",
    "\n",
    "        return action_probs\n",
    "\n",
    "    def select_action(self, state):\n",
    "        #convert state to float tensor, add 1 dimension, allocate tensor on device\n",
    "        state = torch.from_numpy(state).float().unsqueeze(0)\n",
    "\n",
    "        #use network to predict action probabilities\n",
    "        action_probs = self.forward(state)\n",
    "\n",
    "        #sample an action using the probability distribution\n",
    "        m = Categorical(action_probs)\n",
    "        action = m.sample()\n",
    "\n",
    "        #return action\n",
    "        return action.item(), m.log_prob(action)"
   ],
   "metadata": {
    "collapsed": false,
    "pycharm": {
     "name": "#%%\n"
    }
   }
  },
  {
   "cell_type": "markdown",
   "source": [
    "# Create critic\n",
    "\n",
    "The critic is the value approximation. Start with a linear approximation."
   ],
   "metadata": {
    "collapsed": false
   }
  },
  {
   "cell_type": "code",
   "execution_count": 67,
   "outputs": [],
   "source": [
    "#learned value function\n",
    "class ValueFunction():\n",
    "\n",
    "    #initialize with value function parameters\n",
    "    def __init__(self, weight_vector):\n",
    "        self.v = weight_vector\n",
    "\n",
    "    #get value of given state\n",
    "    def __call__(self, xs):\n",
    "        val = torch.matmul(torch.transpose(self.v, 0, 1), xs)\n",
    "        return val"
   ],
   "metadata": {
    "collapsed": false,
    "pycharm": {
     "name": "#%%\n"
    }
   }
  },
  {
   "cell_type": "markdown",
   "source": [
    "# Play environment"
   ],
   "metadata": {
    "collapsed": false
   }
  },
  {
   "cell_type": "code",
   "execution_count": 68,
   "outputs": [],
   "source": [
    "actor = PolicyNetwork(env.observation_space.shape[0], env.action_space.n)\n",
    "\n",
    "#Init weight vectors, should be matrices of dimensions (input, output)\n",
    "stdv = 1 / np.sqrt(env.observation_space.shape[0])\n",
    "v = torch.Tensor(np.random.uniform(low=-stdv, high=stdv, size=(env.observation_space.shape[0], 1)))\n"
   ],
   "metadata": {
    "collapsed": false,
    "pycharm": {
     "name": "#%%\n"
    }
   }
  },
  {
   "cell_type": "code",
   "execution_count": 84,
   "outputs": [
    {
     "name": "stderr",
     "output_type": "stream",
     "text": [
      "/tmp/ipykernel_36347/3137317038.py:4: TqdmDeprecationWarning: This function will be removed in tqdm==5.0.0\n",
      "Please use `tqdm.notebook.tqdm` instead of `tqdm.tqdm_notebook`\n",
      "  for _ in tqdm_notebook(range(100)):\n"
     ]
    },
    {
     "data": {
      "text/plain": "  0%|          | 0/100 [00:00<?, ?it/s]",
      "application/vnd.jupyter.widget-view+json": {
       "version_major": 2,
       "version_minor": 0,
       "model_id": "3d5c20d9e140473ab3213906def19ec3"
      }
     },
     "metadata": {},
     "output_type": "display_data"
    },
    {
     "name": "stdout",
     "output_type": "stream",
     "text": [
      "0\n"
     ]
    },
    {
     "ename": "KeyboardInterrupt",
     "evalue": "",
     "output_type": "error",
     "traceback": [
      "\u001B[0;31m---------------------------------------------------------------------------\u001B[0m",
      "\u001B[0;31mKeyboardInterrupt\u001B[0m                         Traceback (most recent call last)",
      "Input \u001B[0;32mIn [84]\u001B[0m, in \u001B[0;36m<module>\u001B[0;34m\u001B[0m\n\u001B[1;32m     10\u001B[0m action, lp \u001B[38;5;241m=\u001B[39m actor\u001B[38;5;241m.\u001B[39mselect_action(state)\n\u001B[1;32m     11\u001B[0m \u001B[38;5;28mprint\u001B[39m(action)\n\u001B[0;32m---> 12\u001B[0m new_state, reward, done, info \u001B[38;5;241m=\u001B[39m \u001B[43menv\u001B[49m\u001B[38;5;241m.\u001B[39mstep(action)\n\u001B[1;32m     13\u001B[0m score \u001B[38;5;241m+\u001B[39m\u001B[38;5;241m=\u001B[39m reward\n\u001B[1;32m     14\u001B[0m state \u001B[38;5;241m=\u001B[39m new_state\n",
      "Input \u001B[0;32mIn [84]\u001B[0m, in \u001B[0;36m<module>\u001B[0;34m\u001B[0m\n\u001B[1;32m     10\u001B[0m action, lp \u001B[38;5;241m=\u001B[39m actor\u001B[38;5;241m.\u001B[39mselect_action(state)\n\u001B[1;32m     11\u001B[0m \u001B[38;5;28mprint\u001B[39m(action)\n\u001B[0;32m---> 12\u001B[0m new_state, reward, done, info \u001B[38;5;241m=\u001B[39m \u001B[43menv\u001B[49m\u001B[38;5;241m.\u001B[39mstep(action)\n\u001B[1;32m     13\u001B[0m score \u001B[38;5;241m+\u001B[39m\u001B[38;5;241m=\u001B[39m reward\n\u001B[1;32m     14\u001B[0m state \u001B[38;5;241m=\u001B[39m new_state\n",
      "File \u001B[0;32m/snap/pycharm-professional/271/plugins/python/helpers/pydev/_pydevd_bundle/pydevd_frame.py:880\u001B[0m, in \u001B[0;36mPyDBFrame.trace_dispatch\u001B[0;34m(self, frame, event, arg)\u001B[0m\n\u001B[1;32m    877\u001B[0m             stop \u001B[38;5;241m=\u001B[39m \u001B[38;5;28;01mFalse\u001B[39;00m\n\u001B[1;32m    879\u001B[0m \u001B[38;5;28;01mif\u001B[39;00m plugin_stop:\n\u001B[0;32m--> 880\u001B[0m     stopped_on_plugin \u001B[38;5;241m=\u001B[39m \u001B[43mplugin_manager\u001B[49m\u001B[38;5;241;43m.\u001B[39;49m\u001B[43mstop\u001B[49m\u001B[43m(\u001B[49m\u001B[43mmain_debugger\u001B[49m\u001B[43m,\u001B[49m\u001B[43m \u001B[49m\u001B[43mframe\u001B[49m\u001B[43m,\u001B[49m\u001B[43m \u001B[49m\u001B[43mevent\u001B[49m\u001B[43m,\u001B[49m\u001B[43m \u001B[49m\u001B[38;5;28;43mself\u001B[39;49m\u001B[38;5;241;43m.\u001B[39;49m\u001B[43m_args\u001B[49m\u001B[43m,\u001B[49m\u001B[43m \u001B[49m\u001B[43mstop_info\u001B[49m\u001B[43m,\u001B[49m\u001B[43m \u001B[49m\u001B[43marg\u001B[49m\u001B[43m,\u001B[49m\u001B[43m \u001B[49m\u001B[43mstep_cmd\u001B[49m\u001B[43m)\u001B[49m\n\u001B[1;32m    881\u001B[0m \u001B[38;5;28;01melif\u001B[39;00m stop:\n\u001B[1;32m    882\u001B[0m     \u001B[38;5;28;01mif\u001B[39;00m is_line:\n",
      "File \u001B[0;32m/snap/pycharm-professional/271/plugins/python/helpers-pro/jupyter_debug/pydev_jupyter_plugin.py:165\u001B[0m, in \u001B[0;36mstop\u001B[0;34m(plugin, pydb, frame, event, args, stop_info, arg, step_cmd)\u001B[0m\n\u001B[1;32m    163\u001B[0m     frame \u001B[38;5;241m=\u001B[39m suspend_jupyter(main_debugger, thread, frame, step_cmd)\n\u001B[1;32m    164\u001B[0m     \u001B[38;5;28;01mif\u001B[39;00m frame:\n\u001B[0;32m--> 165\u001B[0m         \u001B[43mmain_debugger\u001B[49m\u001B[38;5;241;43m.\u001B[39;49m\u001B[43mdo_wait_suspend\u001B[49m\u001B[43m(\u001B[49m\u001B[43mthread\u001B[49m\u001B[43m,\u001B[49m\u001B[43m \u001B[49m\u001B[43mframe\u001B[49m\u001B[43m,\u001B[49m\u001B[43m \u001B[49m\u001B[43mevent\u001B[49m\u001B[43m,\u001B[49m\u001B[43m \u001B[49m\u001B[43marg\u001B[49m\u001B[43m)\u001B[49m\n\u001B[1;32m    166\u001B[0m         \u001B[38;5;28;01mreturn\u001B[39;00m \u001B[38;5;28;01mTrue\u001B[39;00m\n\u001B[1;32m    167\u001B[0m \u001B[38;5;28;01mreturn\u001B[39;00m \u001B[38;5;28;01mFalse\u001B[39;00m\n",
      "File \u001B[0;32m/snap/pycharm-professional/271/plugins/python/helpers/pydev/pydevd.py:1147\u001B[0m, in \u001B[0;36mPyDB.do_wait_suspend\u001B[0;34m(self, thread, frame, event, arg, send_suspend_message, is_unhandled_exception)\u001B[0m\n\u001B[1;32m   1144\u001B[0m         from_this_thread\u001B[38;5;241m.\u001B[39mappend(frame_id)\n\u001B[1;32m   1146\u001B[0m \u001B[38;5;28;01mwith\u001B[39;00m \u001B[38;5;28mself\u001B[39m\u001B[38;5;241m.\u001B[39m_threads_suspended_single_notification\u001B[38;5;241m.\u001B[39mnotify_thread_suspended(thread_id, stop_reason):\n\u001B[0;32m-> 1147\u001B[0m     \u001B[38;5;28;43mself\u001B[39;49m\u001B[38;5;241;43m.\u001B[39;49m\u001B[43m_do_wait_suspend\u001B[49m\u001B[43m(\u001B[49m\u001B[43mthread\u001B[49m\u001B[43m,\u001B[49m\u001B[43m \u001B[49m\u001B[43mframe\u001B[49m\u001B[43m,\u001B[49m\u001B[43m \u001B[49m\u001B[43mevent\u001B[49m\u001B[43m,\u001B[49m\u001B[43m \u001B[49m\u001B[43marg\u001B[49m\u001B[43m,\u001B[49m\u001B[43m \u001B[49m\u001B[43msuspend_type\u001B[49m\u001B[43m,\u001B[49m\u001B[43m \u001B[49m\u001B[43mfrom_this_thread\u001B[49m\u001B[43m)\u001B[49m\n",
      "File \u001B[0;32m/snap/pycharm-professional/271/plugins/python/helpers/pydev/pydevd.py:1162\u001B[0m, in \u001B[0;36mPyDB._do_wait_suspend\u001B[0;34m(self, thread, frame, event, arg, suspend_type, from_this_thread)\u001B[0m\n\u001B[1;32m   1159\u001B[0m             \u001B[38;5;28mself\u001B[39m\u001B[38;5;241m.\u001B[39m_call_mpl_hook()\n\u001B[1;32m   1161\u001B[0m         \u001B[38;5;28mself\u001B[39m\u001B[38;5;241m.\u001B[39mprocess_internal_commands()\n\u001B[0;32m-> 1162\u001B[0m         \u001B[43mtime\u001B[49m\u001B[38;5;241;43m.\u001B[39;49m\u001B[43msleep\u001B[49m\u001B[43m(\u001B[49m\u001B[38;5;241;43m0.01\u001B[39;49m\u001B[43m)\u001B[49m\n\u001B[1;32m   1164\u001B[0m \u001B[38;5;28mself\u001B[39m\u001B[38;5;241m.\u001B[39mcancel_async_evaluation(get_current_thread_id(thread), \u001B[38;5;28mstr\u001B[39m(\u001B[38;5;28mid\u001B[39m(frame)))\n\u001B[1;32m   1166\u001B[0m \u001B[38;5;66;03m# process any stepping instructions\u001B[39;00m\n",
      "\u001B[0;31mKeyboardInterrupt\u001B[0m: "
     ]
    }
   ],
   "source": [
    "done = False\n",
    "state = env.reset()\n",
    "scores = []\n",
    "for _ in tqdm_notebook(range(100)):\n",
    "    state = env.reset()\n",
    "    done = False\n",
    "    score = 0\n",
    "    while not done:\n",
    "        # env.render()\n",
    "        action, lp = actor.select_action(state)\n",
    "        print(action)\n",
    "        new_state, reward, done, info = env.step(action)\n",
    "        score += reward\n",
    "        state = new_state\n",
    "    scores.append(score)\n",
    "env.close()"
   ],
   "metadata": {
    "collapsed": false,
    "pycharm": {
     "name": "#%%\n"
    }
   }
  },
  {
   "cell_type": "code",
   "execution_count": 80,
   "outputs": [
    {
     "name": "stdout",
     "output_type": "stream",
     "text": [
      "PolicyNetwork(\n",
      "  (input_layer): Linear(in_features=4, out_features=128, bias=True)\n",
      "  (output_layer): Linear(in_features=128, out_features=2, bias=True)\n",
      ")\n",
      "Parameter containing:\n",
      "tensor([[ 3.4143e-01, -1.9363e-01, -4.6286e-01,  1.3921e-01],\n",
      "        [-1.7529e-01, -3.4824e-01, -1.5627e-01, -3.2823e-01],\n",
      "        [-1.5682e-01,  2.5980e-01, -2.8010e-01,  6.4418e-02],\n",
      "        [ 1.7503e-02,  2.6854e-01, -4.6977e-01, -8.8647e-02],\n",
      "        [ 1.2762e-01, -4.9629e-01, -1.5556e-02,  2.0430e-01],\n",
      "        [-2.8436e-02, -2.7054e-01,  2.9450e-01, -4.2084e-02],\n",
      "        [ 3.3124e-01, -1.7953e-02, -4.1910e-03,  2.3000e-01],\n",
      "        [ 4.4304e-01, -4.6263e-01, -1.0413e-01,  1.6626e-02],\n",
      "        [-1.9383e-01,  2.9079e-01,  3.7113e-01, -1.3464e-01],\n",
      "        [ 3.3480e-01,  3.8086e-01,  3.6029e-01,  1.1918e-01],\n",
      "        [ 4.0779e-01, -1.6027e-01,  3.0854e-01, -4.2789e-01],\n",
      "        [-4.8437e-01, -2.2555e-01,  1.4995e-01, -2.3852e-01],\n",
      "        [ 4.5282e-01,  1.7453e-01,  2.9815e-01,  3.5195e-01],\n",
      "        [-6.1956e-02,  4.4638e-01,  3.4926e-02,  3.3196e-01],\n",
      "        [ 1.4145e-01, -5.5739e-02, -3.9415e-01, -2.9584e-01],\n",
      "        [-2.6028e-01,  5.8833e-02, -4.8400e-01, -1.2149e-01],\n",
      "        [-7.3072e-02, -4.0321e-01, -1.4649e-01, -1.0184e-01],\n",
      "        [ 1.6150e-01, -5.6877e-02,  4.0085e-01, -1.8328e-01],\n",
      "        [-4.8581e-01, -3.2000e-01, -2.3909e-01,  2.1902e-03],\n",
      "        [ 1.6024e-01, -5.1987e-02,  2.9658e-01, -2.1698e-01],\n",
      "        [ 1.4929e-01, -1.9302e-01,  4.6759e-01, -6.3308e-02],\n",
      "        [-1.8965e-01,  4.7815e-01, -3.4368e-01,  3.2142e-01],\n",
      "        [ 2.9406e-01,  3.8737e-01, -1.3655e-01, -4.1177e-01],\n",
      "        [-4.4364e-01, -5.9097e-02,  2.5551e-01, -1.8299e-01],\n",
      "        [-2.0789e-01,  4.3367e-01,  2.6245e-01,  1.1578e-02],\n",
      "        [ 2.0910e-01, -1.3355e-01,  2.1609e-02, -2.9239e-01],\n",
      "        [-2.8444e-01, -9.1162e-03,  2.4279e-01,  4.1994e-01],\n",
      "        [ 2.6780e-01, -6.0592e-02,  1.8501e-01,  3.6633e-01],\n",
      "        [-1.7237e-01,  1.3748e-01, -2.8378e-01, -2.3954e-01],\n",
      "        [ 3.0288e-01,  1.0445e-01,  3.8969e-01,  8.6467e-02],\n",
      "        [-8.5069e-02, -4.5774e-02,  1.9519e-01,  4.7940e-01],\n",
      "        [-4.4876e-01,  3.8179e-01,  8.6756e-02, -2.2561e-01],\n",
      "        [ 4.7721e-01,  1.7779e-01, -3.4944e-01, -4.1391e-02],\n",
      "        [ 3.3461e-01,  3.4541e-01, -3.4445e-01, -4.5408e-01],\n",
      "        [ 3.7790e-02,  4.0288e-01, -1.2048e-01, -2.4681e-01],\n",
      "        [-2.2275e-01,  1.9648e-02,  6.6170e-02,  3.0296e-01],\n",
      "        [ 3.0986e-02, -4.8829e-02, -3.7604e-01, -2.2576e-01],\n",
      "        [-4.4993e-01,  4.0947e-01,  1.3149e-01, -2.3280e-01],\n",
      "        [-2.5864e-01, -2.3566e-01,  1.2979e-01,  1.6706e-01],\n",
      "        [-1.6922e-01, -4.4579e-02,  4.0097e-01, -2.4279e-01],\n",
      "        [ 4.5613e-01, -4.4164e-01,  4.0145e-01,  3.3027e-01],\n",
      "        [-3.1023e-01, -3.3264e-01, -9.3796e-02, -7.5048e-02],\n",
      "        [-3.2007e-01,  1.6714e-01, -2.1403e-01,  1.6946e-01],\n",
      "        [-1.6149e-01,  3.0680e-01, -1.2478e-01,  8.9082e-02],\n",
      "        [ 2.7482e-01, -2.8644e-01,  1.5166e-01, -2.8615e-01],\n",
      "        [-5.2515e-02,  4.6264e-01,  8.5133e-02,  4.1683e-01],\n",
      "        [-4.4882e-01,  4.9327e-01,  3.4187e-01, -1.7166e-01],\n",
      "        [ 2.7351e-01, -3.1137e-01,  2.0406e-01,  3.3678e-01],\n",
      "        [-2.1001e-01, -2.3073e-01, -8.1223e-02, -2.4042e-01],\n",
      "        [ 8.0863e-02,  1.1004e-01,  3.1231e-01, -2.5745e-01],\n",
      "        [ 4.2653e-01,  1.0502e-01,  3.9527e-02,  3.3603e-01],\n",
      "        [ 4.0909e-01,  3.3783e-01,  9.4351e-02, -2.6802e-01],\n",
      "        [-3.9206e-01,  1.0436e-01,  1.2093e-01, -1.1700e-01],\n",
      "        [ 1.5395e-01, -3.1582e-01, -2.7585e-01, -3.4594e-01],\n",
      "        [ 1.7244e-01, -1.6296e-01,  1.9315e-01, -3.9191e-01],\n",
      "        [-2.9889e-01, -1.5053e-01, -1.1912e-01, -1.9779e-01],\n",
      "        [ 4.5012e-01, -1.4676e-01, -5.3152e-03,  3.3604e-01],\n",
      "        [-2.8561e-01, -4.1835e-01, -2.7647e-01,  1.5998e-01],\n",
      "        [-8.7149e-02, -1.9863e-01, -4.4988e-01,  2.4004e-01],\n",
      "        [ 4.9554e-01,  4.2009e-01, -1.9450e-01,  3.8573e-03],\n",
      "        [ 3.0076e-02, -3.6197e-01,  3.0699e-01, -4.8503e-01],\n",
      "        [-9.9841e-02,  4.9369e-01, -3.5064e-01,  2.7777e-01],\n",
      "        [-3.3705e-01,  2.3838e-01, -3.1696e-01, -1.1018e-01],\n",
      "        [-4.7235e-01,  2.4759e-01, -3.7831e-01,  3.2110e-01],\n",
      "        [-2.1574e-01, -3.1311e-01, -4.0597e-01, -3.7458e-01],\n",
      "        [ 2.0672e-01,  4.5797e-01, -2.9819e-01,  3.1383e-01],\n",
      "        [ 3.9456e-01, -1.0713e-02,  2.1007e-01,  3.8223e-01],\n",
      "        [ 2.2998e-01,  1.6490e-01,  3.7527e-01, -3.8039e-01],\n",
      "        [-4.9547e-01, -1.2525e-01, -3.8031e-01, -4.8912e-01],\n",
      "        [-4.8335e-01,  1.2509e-01,  2.0379e-01, -4.2053e-02],\n",
      "        [-1.5951e-01, -1.3473e-01,  1.8383e-01, -4.9355e-01],\n",
      "        [-2.7389e-01, -3.0464e-01, -4.2579e-01,  7.2816e-02],\n",
      "        [ 7.4950e-02,  2.3315e-01,  2.4293e-01,  2.5773e-01],\n",
      "        [-3.8156e-01, -2.3077e-01,  4.0835e-01,  4.2877e-01],\n",
      "        [-3.9829e-01, -3.1143e-01, -4.0569e-01,  4.3928e-01],\n",
      "        [-1.1188e-01, -3.1987e-01,  1.4804e-01,  2.7384e-02],\n",
      "        [-9.6599e-02,  1.7601e-01,  5.5521e-02,  6.6555e-02],\n",
      "        [-3.5666e-01, -3.0062e-01,  1.4933e-01,  7.0190e-03],\n",
      "        [ 1.7494e-01, -1.0284e-01,  3.9150e-01,  1.1727e-01],\n",
      "        [ 3.1268e-01, -2.8140e-01, -3.8439e-01, -1.2790e-01],\n",
      "        [ 2.0513e-01,  3.9414e-01,  5.8278e-02, -2.3283e-02],\n",
      "        [-3.0394e-01, -3.8018e-01,  3.1207e-01, -2.0462e-01],\n",
      "        [-3.5486e-01,  8.1194e-03, -6.0013e-02,  2.8946e-01],\n",
      "        [-4.8619e-01,  1.2207e-01, -3.8295e-01,  1.2782e-01],\n",
      "        [-3.3325e-02,  4.7082e-01, -2.7944e-01,  1.0261e-01],\n",
      "        [ 2.0687e-01, -2.6201e-01, -4.9412e-01,  2.9403e-02],\n",
      "        [ 1.0561e-01,  4.2865e-01,  1.3574e-01,  4.8458e-01],\n",
      "        [ 3.6331e-01,  4.6911e-01, -7.2807e-02, -1.6017e-01],\n",
      "        [-6.6730e-02, -5.6216e-02,  3.6227e-01, -1.5811e-01],\n",
      "        [ 4.6017e-01, -2.9101e-02, -6.3400e-02,  3.6771e-01],\n",
      "        [ 4.3695e-01, -1.6925e-01,  3.5823e-01, -4.9001e-01],\n",
      "        [-3.0680e-02, -2.9040e-01,  4.9356e-01, -3.5640e-01],\n",
      "        [ 3.5405e-01,  1.6775e-01,  2.8949e-01,  2.7994e-01],\n",
      "        [-3.0937e-01, -4.2273e-01,  1.0193e-01, -2.7321e-01],\n",
      "        [-9.9196e-02,  3.1147e-01, -1.7349e-01,  2.2409e-01],\n",
      "        [ 1.4263e-01, -4.8157e-01,  1.1201e-01, -3.3119e-02],\n",
      "        [ 2.1997e-01, -4.5678e-01,  2.8411e-01, -4.6142e-01],\n",
      "        [-3.0560e-01,  4.9475e-02, -1.6230e-01, -4.2646e-01],\n",
      "        [ 3.5258e-01, -1.3202e-01,  2.1417e-01, -2.5814e-02],\n",
      "        [ 5.1643e-02,  3.9491e-01, -2.1355e-02, -1.6389e-01],\n",
      "        [ 4.5177e-01,  4.7005e-01, -4.8039e-01,  3.7074e-01],\n",
      "        [ 3.4365e-01, -4.6723e-01, -3.1728e-01, -6.0852e-02],\n",
      "        [-2.5888e-01, -6.7288e-02,  3.6919e-01, -1.0572e-01],\n",
      "        [-3.5983e-02,  1.1289e-01, -4.3235e-01,  3.5157e-01],\n",
      "        [ 4.7725e-02,  3.0382e-01, -1.5376e-01,  2.8559e-01],\n",
      "        [-3.9482e-01, -4.9605e-01,  1.1407e-01,  1.0490e-01],\n",
      "        [ 2.5526e-01,  1.2180e-01,  3.6591e-01,  1.2079e-01],\n",
      "        [ 4.8621e-01, -1.7985e-02,  1.0384e-01, -1.9717e-01],\n",
      "        [ 1.8598e-01, -1.0847e-01, -4.4691e-01,  7.5963e-02],\n",
      "        [ 4.8935e-01, -3.9632e-01,  2.9113e-01, -1.0834e-01],\n",
      "        [ 3.9601e-01, -3.3161e-01,  4.1448e-01,  2.4774e-01],\n",
      "        [ 6.8878e-02,  4.5390e-02, -3.7341e-01,  3.5803e-01],\n",
      "        [ 1.2697e-01, -4.9987e-01, -2.6655e-01, -1.2344e-01],\n",
      "        [ 7.6453e-02,  4.7983e-01,  1.9689e-01,  4.3218e-01],\n",
      "        [ 1.6482e-01, -3.9509e-01,  9.5614e-02, -8.0212e-02],\n",
      "        [ 1.8811e-01,  2.1428e-04, -3.1059e-01,  3.9999e-01],\n",
      "        [ 3.1924e-01,  1.5532e-01, -2.0658e-01, -5.2909e-02],\n",
      "        [-3.8922e-01,  1.0364e-01,  3.8350e-01,  1.4414e-01],\n",
      "        [-1.4290e-01,  1.2955e-01, -3.2743e-01,  2.5790e-01],\n",
      "        [ 3.7129e-01,  3.5630e-01,  1.2231e-01, -1.6963e-01],\n",
      "        [-5.2272e-02, -8.4771e-02, -1.7299e-01, -2.1199e-01],\n",
      "        [-4.1242e-01,  4.1274e-01, -3.7504e-01,  1.5455e-01],\n",
      "        [-2.7212e-01,  7.0533e-02,  1.4832e-01,  2.2492e-01],\n",
      "        [-3.2443e-01,  3.8285e-02, -4.3888e-01, -4.6354e-01],\n",
      "        [-3.2311e-01, -4.8176e-02, -4.4914e-01,  8.8078e-02],\n",
      "        [-2.8033e-01, -2.5207e-01, -3.0585e-01,  4.4362e-01],\n",
      "        [ 6.9097e-02, -2.0456e-01, -2.9248e-02,  5.6019e-02],\n",
      "        [-1.8022e-01, -2.3807e-01,  1.1154e-01, -2.3847e-01]],\n",
      "       requires_grad=True)\n"
     ]
    }
   ],
   "source": [
    "w = actor.parameters\n",
    "print(actor.input_layer.weight)"
   ],
   "metadata": {
    "collapsed": false,
    "pycharm": {
     "name": "#%%\n"
    }
   }
  },
  {
   "cell_type": "markdown",
   "source": [
    "# Print scores"
   ],
   "metadata": {
    "collapsed": false
   }
  },
  {
   "cell_type": "code",
   "execution_count": 63,
   "outputs": [
    {
     "data": {
      "text/plain": "<Figure size 432x288 with 1 Axes>",
      "image/png": "[encoded data removed]"
     },
     "metadata": {},
     "output_type": "display_data"
    }
   ],
   "source": [
    "import matplotlib.pyplot as plt\n",
    "from sklearn.linear_model import LinearRegression\n",
    "import seaborn as sns\n",
    "import numpy as np\n",
    "\n",
    "sns.set()\n",
    "\n",
    "plt.plot(scores)\n",
    "plt.ylabel('score')\n",
    "plt.xlabel('episodes')\n",
    "plt.title('Training score of CartPole with REINFORCE')\n",
    "\n",
    "reg = LinearRegression().fit(np.arange(len(scores)).reshape(-1, 1), np.array(scores).reshape(-1, 1))\n",
    "y_pred = reg.predict(np.arange(len(scores)).reshape(-1, 1))\n",
    "plt.plot(y_pred)\n",
    "plt.show()"
   ],
   "metadata": {
    "collapsed": false,
    "pycharm": {
     "name": "#%%\n"
    }
   }
  },
  {
   "cell_type": "markdown",
   "source": [],
   "metadata": {
    "collapsed": false
   }
  },
  {
   "cell_type": "code",
   "execution_count": 83,
   "outputs": [
    {
     "name": "stdout",
     "output_type": "stream",
     "text": [
      "tensor(63.) tensor(59., grad_fn=<AddBackward0>)\n"
     ]
    }
   ],
   "source": [
    "x=torch.tensor(2.0, requires_grad=True)\n",
    "y=3*x**3+5*x**2+7*x+1\n",
    "y.backward()\n",
    "print(x.grad, y)"
   ],
   "metadata": {
    "collapsed": false,
    "pycharm": {
     "name": "#%%\n"
    }
   }
  },
  {
   "cell_type": "code",
   "execution_count": 92,
   "outputs": [],
   "source": [
    "#Using a neural network to learn our policy parameters\n",
    "class ToyNetwork(nn.Module):\n",
    "\n",
    "    #Takes in observations and outputs actions\n",
    "    def __init__(self):\n",
    "        super(ToyNetwork, self).__init__()\n",
    "        self.input_layer = nn.Linear(1, 128)\n",
    "        self.output_layer = nn.Linear(128, 1)\n",
    "\n",
    "    #forward pass\n",
    "    def forward(self, x):\n",
    "        #input states\n",
    "        x = self.input_layer(x)\n",
    "\n",
    "        #relu activation\n",
    "        x = F.relu(x)\n",
    "\n",
    "        #actions\n",
    "        actions = self.output_layer(x)\n",
    "\n",
    "        return actions"
   ],
   "metadata": {
    "collapsed": false,
    "pycharm": {
     "name": "#%%\n"
    }
   }
  },
  {
   "cell_type": "code",
   "execution_count": 115,
   "outputs": [],
   "source": [
    "def testing_function (x):\n",
    "    return 3*x**3+5*x**2+7*x+1"
   ],
   "metadata": {
    "collapsed": false,
    "pycharm": {
     "name": "#%%\n"
    }
   }
  },
  {
   "cell_type": "code",
   "execution_count": 129,
   "outputs": [
    {
     "name": "stderr",
     "output_type": "stream",
     "text": [
      "/tmp/ipykernel_36347/2938344208.py:14: UserWarning: Using a target size (torch.Size([1])) that is different to the input size (torch.Size([1, 1])). This will likely lead to incorrect results due to broadcasting. Please ensure they have the same size.\n",
      "  loss = nn.functional.mse_loss(pred_value, real_value)\n"
     ]
    },
    {
     "name": "stdout",
     "output_type": "stream",
     "text": [
      "tensor(6.2180e-11, grad_fn=<DivBackward0>)\n"
     ]
    }
   ],
   "source": [
    "toy = ToyNetwork()\n",
    "input =[]\n",
    "input.append(torch.tensor([2.0], requires_grad=True))\n",
    "input.append(torch.tensor([4.0], requires_grad=True))\n",
    "input.append(torch.tensor([6.0], requires_grad=True))\n",
    "input.append(torch.tensor([8.0], requires_grad=True))\n",
    "optimizer = optim.Adam(toy.parameters(), lr=0.1)\n",
    "for i in range(1000):\n",
    "    acc_loss = 0\n",
    "    for x in input:\n",
    "        optimizer.zero_grad()\n",
    "        pred_value = toy.forward(x.unsqueeze(dim=0))\n",
    "        real_value = testing_function(x)\n",
    "        loss = nn.functional.mse_loss(pred_value, real_value)\n",
    "        loss.backward()\n",
    "        optimizer.step()\n",
    "        acc_loss = acc_loss + loss\n",
    "print(acc_loss/1000)"
   ],
   "metadata": {
    "collapsed": false,
    "pycharm": {
     "name": "#%%\n"
    }
   }
  },
  {
   "cell_type": "code",
   "execution_count": 152,
   "outputs": [
    {
     "name": "stdout",
     "output_type": "stream",
     "text": [
      "tensor([[537.7830]], grad_fn=<AddmmBackward0>)\n"
     ]
    },
    {
     "data": {
      "text/plain": "536.0"
     },
     "execution_count": 152,
     "metadata": {},
     "output_type": "execute_result"
    }
   ],
   "source": [
    "sdsa = 5.0\n",
    "test_val= torch.tensor([sdsa], requires_grad=True)\n",
    "pred_value = toy.forward(test_val.unsqueeze(dim=0))\n",
    "print(pred_value)\n",
    "testing_function (sdsa)"
   ],
   "metadata": {
    "collapsed": false,
    "pycharm": {
     "name": "#%%\n"
    }
   }
  },
  {
   "cell_type": "code",
   "execution_count": 153,
   "outputs": [
    {
     "data": {
      "text/plain": "tensor([287.0748])"
     },
     "execution_count": 153,
     "metadata": {},
     "output_type": "execute_result"
    }
   ],
   "source": [
    "pred_value.backward()\n",
    "test_val.grad"
   ],
   "metadata": {
    "collapsed": false,
    "pycharm": {
     "name": "#%%\n"
    }
   }
  }
 ],
 "metadata": {
  "kernelspec": {
   "display_name": "Python 3",
   "language": "python",
   "name": "python3"
  },
  "language_info": {
   "codemirror_mode": {
    "name": "ipython",
    "version": 2
   },
   "file_extension": ".py",
   "mimetype": "text/x-python",
   "name": "python",
   "nbconvert_exporter": "python",
   "pygments_lexer": "ipython2",
   "version": "2.7.6"
  }
 },
 "nbformat": 4,
 "nbformat_minor": 0
}